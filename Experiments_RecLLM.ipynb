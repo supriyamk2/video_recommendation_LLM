{
  "nbformat": 4,
  "nbformat_minor": 0,
  "metadata": {
    "colab": {
      "provenance": [],
      "machine_shape": "hm",
      "gpuType": "L4"
    },
    "kernelspec": {
      "name": "python3",
      "display_name": "Python 3"
    },
    "language_info": {
      "name": "python"
    },
    "accelerator": "GPU"
  },
  "cells": [
    {
      "cell_type": "code",
      "execution_count": 110,
      "metadata": {
        "id": "gfzqtcP1L3Mn"
      },
      "outputs": [],
      "source": [
        "video_metadata = [\n",
        "    {\n",
        "        \"Video_ID\": \"video_001\",\n",
        "        \"Title\": \"How Transformers work explained animation\",\n",
        "        \"Description\": \"A deep dive into Transformers, the architecture behind models like GPT, BERT, and T5.\",\n",
        "        \"Thumbnail_URL\": \"https://img.youtube.com/vi/SZorAJ4I-sA/0.jpg\",\n",
        "        \"Video_URL\": \"https://www.youtube.com/watch?v=aPxiAzsJCZI\",\n",
        "        \"Tags\": [\"transformers\", \"GPT\", \"BERT\", \"T5\", \"AI\", \"Machine Learning\"],\n",
        "        \"Category\": \"Educational\",\n",
        "        \"Duration\": 1800,  # Approx. 30 minutes\n",
        "        \"View_Count\": 12000,\n",
        "        \"Likes\": 1000,\n",
        "        \"Dislikes\": 50,\n",
        "        \"Watch_Time\": 1700  # Avg watch time in seconds\n",
        "    },\n",
        "    {\n",
        "        \"Video_ID\": \"video_002\",\n",
        "        \"Title\": \"What are Transformers (Machine Learning Model)?\",\n",
        "        \"Description\": \"An introductory explanation of Transformer models in machine learning.\",\n",
        "        \"Thumbnail_URL\": \"https://img.youtube.com/vi/ZXiruGOCn9s/0.jpg\",\n",
        "        \"Video_URL\": \"https://www.youtube.com/watch?v=ZXiruGOCn9s\",\n",
        "        \"Tags\": [\"transformers\", \"machine learning\", \"neural networks\"],\n",
        "        \"Category\": \"Educational\",\n",
        "        \"Duration\": 600,  # Approx. 10 minutes\n",
        "        \"View_Count\": 8000,\n",
        "        \"Likes\": 700,\n",
        "        \"Dislikes\": 30,\n",
        "        \"Watch_Time\": 550\n",
        "    },\n",
        "    {\n",
        "        \"Video_ID\": \"video_003\",\n",
        "        \"Title\": \"Five Little Ducks Song - Fun and Learning with Nursery Rhymes!\",\n",
        "        \"Description\": \"A fun animal version of the classic nursery rhyme 'Rain Rain Go Away'.\",\n",
        "        \"Thumbnail_URL\": \"https://img.youtube.com/vi/d7sHFcthZJQ/0.jpg\",\n",
        "        \"Video_URL\": \"https://www.youtube.com/watch?v=qnws5ZziB10\",\n",
        "        \"Tags\": [\"nursery rhymes\", \"kids\", \"baby songs\", \"music\"],\n",
        "        \"Category\": \"Children\",\n",
        "        \"Duration\": 240,  # Approx. 4 minutes\n",
        "        \"View_Count\": 250000,\n",
        "        \"Likes\": 5000,\n",
        "        \"Dislikes\": 200,\n",
        "        \"Watch_Time\": 230\n",
        "    },\n",
        "    {\n",
        "        \"Video_ID\": \"video_004\",\n",
        "        \"Title\": \"Explained In A Minute: Neural Networks\",\n",
        "        \"Description\": \"A quick and concise explanation of Neural Networks in one minute.\",\n",
        "        \"Thumbnail_URL\": \"https://img.youtube.com/vi/rEDzUT3ymw4/0.jpg\",\n",
        "        \"Video_URL\": \"https://www.youtube.com/watch?v=rEDzUT3ymw4\",\n",
        "        \"Tags\": [\"neural networks\", \"AI\", \"Machine Learning\", \"explainer\"],\n",
        "        \"Category\": \"Educational\",\n",
        "        \"Duration\": 60,  # 1 minute\n",
        "        \"View_Count\": 15000,\n",
        "        \"Likes\": 1200,\n",
        "        \"Dislikes\": 40,\n",
        "        \"Watch_Time\": 58  # Avg watch time in seconds\n",
        "    },\n",
        "    {\n",
        "        \"Video_ID\": \"video_005\",\n",
        "        \"Title\": \"Support Vector Machine (SVM) in 2 minutes\",\n",
        "        \"Description\": \"A brief explanation of Support Vector Machines (SVM) in two minutes.\",\n",
        "        \"Thumbnail_URL\": \"https://img.youtube.com/vi/_YPScrckx28/0.jpg\",\n",
        "        \"Video_URL\": \"https://www.youtube.com/watch?v=_YPScrckx28\",\n",
        "        \"Tags\": [\"SVM\", \"machine learning\", \"AI\", \"explainer\"],\n",
        "        \"Category\": \"Educational\",\n",
        "        \"Duration\": 120,  # 2 minutes\n",
        "        \"View_Count\": 13000,\n",
        "        \"Likes\": 900,\n",
        "        \"Dislikes\": 30,\n",
        "        \"Watch_Time\": 115  # Avg watch time in seconds\n",
        "    },\n",
        "    {\n",
        "        \"Video_ID\": \"video_006\",\n",
        "        \"Title\": \"Breakfast Song | CoComelon Nursery Rhymes & Kids Songs\",\n",
        "        \"Description\": \"A fun breakfast-themed nursery rhyme from CoComelon.\",\n",
        "        \"Thumbnail_URL\": \"https://img.youtube.com/vi/fsQVfQt0HOk/0.jpg\",\n",
        "        \"Video_URL\": \"https://www.youtube.com/watch?v=fsQVfQt0HOk\",\n",
        "        \"Tags\": [\"nursery rhymes\", \"kids\", \"baby songs\", \"music\"],\n",
        "        \"Category\": \"Children\",\n",
        "        \"Duration\": 180,  # 3 minutes\n",
        "        \"View_Count\": 500000,\n",
        "        \"Likes\": 8000,\n",
        "        \"Dislikes\": 300,\n",
        "        \"Watch_Time\": 175  # Avg watch time in seconds\n",
        "    },\n",
        "    {\n",
        "        \"Video_ID\": \"video_007\",\n",
        "        \"Title\": \"Inflation Explained\",\n",
        "        \"Description\": \"An explanation of what inflation is and how it affects the economy.\",\n",
        "        \"Thumbnail_URL\": \"https://img.youtube.com/vi/beAvFHP4wDI/0.jpg\",\n",
        "        \"Video_URL\": \"https://www.youtube.com/watch?v=beAvFHP4wDI\",\n",
        "        \"Tags\": [\"inflation\", \"economics\", \"finance\"],\n",
        "        \"Category\": \"Economy\",\n",
        "        \"Duration\": 300,  # 5 minutes\n",
        "        \"View_Count\": 7000,\n",
        "        \"Likes\": 500,\n",
        "        \"Dislikes\": 20,\n",
        "        \"Watch_Time\": 250  # Avg watch time in seconds\n",
        "    },\n",
        "    {\n",
        "        \"Video_ID\": \"video_008\",\n",
        "        \"Title\": \"Why High Inflation Has Lasted for So Long | WSJ\",\n",
        "        \"Description\": \"A discussion on the reasons behind prolonged high inflation.\",\n",
        "        \"Thumbnail_URL\": \"https://img.youtube.com/vi/ezTPNACVVos/0.jpg\",\n",
        "        \"Video_URL\": \"https://www.youtube.com/watch?v=ezTPNACVVos\",\n",
        "        \"Tags\": [\"inflation\", \"economics\", \"WSJ\", \"finance\"],\n",
        "        \"Category\": \"Economy\",\n",
        "        \"Duration\": 480,  # 8 minutes\n",
        "        \"View_Count\": 5000,\n",
        "        \"Likes\": 400,\n",
        "        \"Dislikes\": 15,\n",
        "        \"Watch_Time\": 400  # Avg watch time in seconds\n",
        "    },\n",
        "    {\n",
        "        \"Video_ID\": \"video_009\",\n",
        "        \"Title\": \"Accelerate Gradient Descent with Momentum\",\n",
        "        \"Description\": \"A tutorial on improving gradient descent with the momentum technique.\",\n",
        "        \"Thumbnail_URL\": \"https://img.youtube.com/vi/iudXf5n_3ro/0.jpg\",\n",
        "        \"Video_URL\": \"https://www.youtube.com/watch?v=iudXf5n_3ro\",\n",
        "        \"Tags\": [\"gradient descent\", \"machine learning\", \"momentum\"],\n",
        "        \"Category\": \"Educational\",\n",
        "        \"Duration\": 420,  # 7 minutes\n",
        "        \"View_Count\": 6000,\n",
        "        \"Likes\": 450,\n",
        "        \"Dislikes\": 25,\n",
        "        \"Watch_Time\": 380  # Avg watch time in seconds\n",
        "    },\n",
        "    {\n",
        "        \"Video_ID\": \"video_010\",\n",
        "        \"Title\": \"Two Little Hands To Clap Clap Clap Rhyme With Lyrics I English Kids Songs | Learning Videos For Kids\",\n",
        "        \"Description\": \"A fun and engaging rhyme for kids with lyrics.\",\n",
        "        \"Thumbnail_URL\": \"https://img.youtube.com/vi/TV_x6YUdnvg/0.jpg\",\n",
        "        \"Video_URL\": \"https://www.youtube.com/watch?v=TV_x6YUdnvg\",\n",
        "        \"Tags\": [\"nursery rhymes\", \"kids\", \"baby songs\", \"music\"],\n",
        "        \"Category\": \"Children\",\n",
        "        \"Duration\": 180,  # 3 minutes\n",
        "        \"View_Count\": 400000,\n",
        "        \"Likes\": 7000,\n",
        "        \"Dislikes\": 250,\n",
        "        \"Watch_Time\": 165  # Avg watch time in seconds\n",
        "    }\n",
        "]\n",
        "\n",
        "\n",
        "user_interactions = [\n",
        "    {\"User_ID\": \"user_001\", \"Video_ID\": \"video_001\", \"Interaction_Type\": \"like\", \"Timestamp\": \"2024-08-10T12:00:00Z\"},\n",
        "    {\"User_ID\": \"user_002\", \"Video_ID\": \"video_002\", \"Interaction_Type\": \"view\", \"Timestamp\": \"2024-08-10T12:05:00Z\"},\n",
        "    {\"User_ID\": \"user_003\", \"Video_ID\": \"video_003\", \"Interaction_Type\": \"view\", \"Timestamp\": \"2024-08-10T12:30:00Z\"},\n",
        "    {\"User_ID\": \"user_001\", \"Video_ID\": \"video_002\", \"Interaction_Type\": \"like\", \"Timestamp\": \"2024-08-10T12:35:00Z\"},\n",
        "    {\"User_ID\": \"user_002\", \"Video_ID\": \"video_003\", \"Interaction_Type\": \"view\", \"Timestamp\": \"2024-08-10T12:40:00Z\"},\n",
        "    {\"User_ID\": \"user_001\", \"Video_ID\": \"video_005\", \"Interaction_Type\": \"view\", \"Timestamp\": \"2024-08-10T12:50:00Z\"},\n",
        "    {\"User_ID\": \"user_002\", \"Video_ID\": \"video_007\", \"Interaction_Type\": \"like\", \"Timestamp\": \"2024-08-10T13:00:00Z\"},\n",
        "    {\"User_ID\": \"user_002\", \"Video_ID\": \"video_008\", \"Interaction_Type\": \"view\", \"Timestamp\": \"2024-08-10T13:10:00Z\"},\n",
        "    {\"User_ID\": \"user_001\", \"Video_ID\": \"video_009\", \"Interaction_Type\": \"view\", \"Timestamp\": \"2024-08-10T13:20:00Z\"},\n",
        "    {\"User_ID\": \"user_003\", \"Video_ID\": \"video_010\", \"Interaction_Type\": \"view\", \"Timestamp\": \"2024-08-10T13:30:00Z\"},\n",
        "    {\"User_ID\": \"user_002\", \"Video_ID\": \"video_007\", \"Interaction_Type\": \"like\", \"Timestamp\": \"2024-08-10T13:35:00Z\"},\n",
        "    {\"User_ID\": \"user_003\", \"Video_ID\": \"video_006\", \"Interaction_Type\": \"view\", \"Timestamp\": \"2024-08-10T13:40:00Z\"}\n",
        "]\n",
        "\n"
      ]
    },
    {
      "cell_type": "code",
      "source": [
        "#!pip install yt_dlp"
      ],
      "metadata": {
        "id": "_YPImI3aMExO"
      },
      "execution_count": 111,
      "outputs": []
    },
    {
      "cell_type": "code",
      "source": [
        "from yt_dlp import YoutubeDL\n",
        "\n",
        "def download_video(youtube_url, output_filename):\n",
        "    ydl_opts = {\n",
        "        'format': 'best',  # Simplified format option\n",
        "        'outtmpl': f'{output_filename}.mp4',   # Save the file with the provided output filename\n",
        "        'noplaylist': True,                    # Ensure only single video download, not playlists\n",
        "        'quiet': False,                        # Provide detailed output\n",
        "        'verbose': True,                       # Enable verbose mode for debugging\n",
        "        'force_generic_extractor': True        # Force using the generic extractor\n",
        "    }\n",
        "\n",
        "    with YoutubeDL(ydl_opts) as ydl:\n",
        "        ydl.download([youtube_url])\n",
        "\n",
        "    return f\"{output_filename}.mp4\"\n",
        "\n",
        "# List of video URLs to download, including previous and new ones\n",
        "video_urls = [\n",
        "    \"https://www.youtube.com/watch?v=aPxiAzsJCZI\",  # video_001\n",
        "    \"https://www.youtube.com/watch?v=ZXiruGOCn9s\",  # video_002\n",
        "    \"https://www.youtube.com/watch?v=qnws5ZziB10\",  # video_003\n",
        "    \"https://www.youtube.com/watch?v=rEDzUT3ymw4\",  # video_004\n",
        "    \"https://www.youtube.com/watch?v=_YPScrckx28\",  # video_005\n",
        "    \"https://www.youtube.com/watch?v=fsQVfQt0HOk\",  # video_006\n",
        "    \"https://www.youtube.com/watch?v=beAvFHP4wDI\",  # video_007\n",
        "    \"https://www.youtube.com/watch?v=ezTPNACVVos\",  # video_008\n",
        "    \"https://www.youtube.com/watch?v=iudXf5n_3ro\",  # video_009\n",
        "    \"https://www.youtube.com/watch?v=TV_x6YUdnvg\"   # video_010\n",
        "]\n",
        "\n",
        "# Download each video\n",
        "for i, url in enumerate(video_urls):\n",
        "    output_filename = f\"video_{i+1}\"\n",
        "    download_video(url, output_filename)\n"
      ],
      "metadata": {
        "colab": {
          "base_uri": "https://localhost:8080/"
        },
        "id": "eDu7AElAL498",
        "outputId": "75872e05-d5d3-4ba0-e71b-afe184845750"
      },
      "execution_count": 112,
      "outputs": [
        {
          "output_type": "stream",
          "name": "stderr",
          "text": [
            "[debug] Encodings: locale UTF-8, fs utf-8, pref UTF-8, out UTF-8 (No ANSI), error UTF-8 (No ANSI), screen UTF-8 (No ANSI)\n",
            "[debug] yt-dlp version stable@2024.08.06 from yt-dlp/yt-dlp [4d9231208] (pip) API\n",
            "[debug] params: {'format': 'best', 'outtmpl': 'video_1.mp4', 'noplaylist': True, 'quiet': False, 'verbose': True, 'force_generic_extractor': True, 'compat_opts': set(), 'http_headers': {'User-Agent': 'Mozilla/5.0 (Windows NT 10.0; Win64; x64) AppleWebKit/537.36 (KHTML, like Gecko) Chrome/91.0.4472.19 Safari/537.36', 'Accept': 'text/html,application/xhtml+xml,application/xml;q=0.9,*/*;q=0.8', 'Accept-Language': 'en-us,en;q=0.5', 'Sec-Fetch-Mode': 'navigate'}}\n",
            "[debug] Python 3.10.12 (CPython x86_64 64bit) - Linux-6.1.85+-x86_64-with-glibc2.35 (OpenSSL 3.0.2 15 Mar 2022, glibc 2.35)\n",
            "[debug] exe versions: ffmpeg 4.4.2 (setts), ffprobe 4.4.2\n",
            "[debug] Optional libraries: Cryptodome-3.20.0, brotli-1.1.0, certifi-2024.07.04, mutagen-1.47.0, requests-2.32.3, secretstorage-3.3.1, sqlite3-3.37.2, urllib3-2.0.7, websockets-12.0\n",
            "[debug] Proxy map: {'colab_language_server': '/usr/colab/bin/language_service'}\n",
            "[debug] Request Handlers: urllib, requests, websockets\n",
            "[debug] Loaded 1830 extractors\n"
          ]
        },
        {
          "output_type": "stream",
          "name": "stdout",
          "text": [
            "[generic] Extracting URL: https://www.youtube.com/watch?v=aPxiAzsJCZI\n",
            "[generic] watch?v=aPxiAzsJCZI: Downloading webpage\n"
          ]
        },
        {
          "output_type": "stream",
          "name": "stderr",
          "text": [
            "WARNING: [generic] Forcing generic information extractor\n"
          ]
        },
        {
          "output_type": "stream",
          "name": "stdout",
          "text": [
            "[generic] watch?v=aPxiAzsJCZI: Extracting information\n"
          ]
        },
        {
          "output_type": "stream",
          "name": "stderr",
          "text": [
            "[debug] Looking for embeds\n",
            "[debug] Identified a twitter:player iframe\n"
          ]
        },
        {
          "output_type": "stream",
          "name": "stdout",
          "text": [
            "[youtube] Extracting URL: https://www.youtube.com/embed/aPxiAzsJCZI\n",
            "[youtube] aPxiAzsJCZI: Downloading webpage\n",
            "[youtube] aPxiAzsJCZI: Downloading ios player API JSON\n",
            "[youtube] aPxiAzsJCZI: Downloading web creator player API JSON\n"
          ]
        },
        {
          "output_type": "stream",
          "name": "stderr",
          "text": [
            "[debug] Loading youtube-nsig.37b24ccb from cache\n",
            "[debug] [youtube] Decrypted nsig 4-jkWtEVxQQPLGs => C_S8B0ljty43zA\n"
          ]
        },
        {
          "output_type": "stream",
          "name": "stdout",
          "text": [
            "[youtube] aPxiAzsJCZI: Downloading m3u8 information\n"
          ]
        },
        {
          "output_type": "stream",
          "name": "stderr",
          "text": [
            "[debug] Sort order given by extractor: quality, res, fps, hdr:12, source, vcodec:vp9.2, channels, acodec, lang, proto\n",
            "[debug] Formats sorted by: hasvid, ie_pref, quality, res, fps, hdr:12(7), source, vcodec:vp9.2(10), channels, acodec, lang, proto, size, br, asr, vext, aext, hasaud, id\n"
          ]
        },
        {
          "output_type": "stream",
          "name": "stdout",
          "text": [
            "[info] aPxiAzsJCZI: Downloading 1 format(s): 18\n"
          ]
        },
        {
          "output_type": "stream",
          "name": "stderr",
          "text": [
            "[debug] Invoking http downloader on \"https://rr3---sn-q4flrnez.googlevideo.com/videoplayback?expire=1723610012&ei=PN-7Zru8K9PBsfIPgLbXwQM&ip=34.16.189.8&id=o-AHNalOJq4nOM_kJMN2cXN4etX0AxP6geF5Jy5D77AZCU&itag=18&source=youtube&requiressl=yes&xpc=EgVo2aDSNQ%3D%3D&mh=gb&mm=31&mn=sn-q4flrnez&ms=au&mv=m&mvi=3&pl=17&initcwndbps=1331250&bui=AQmm2eyGjjMoK3yi2PRtZuV6_h8H1wx2hvwWm-h-jPKyQuDvSq2pAhGQmIYOljxtAAS3k4zR4bB6pO1M&spc=Mv1m9sjUFQ7Y04T9mf5ObxfA7chkiuuj4OJ-DKYFUGVoYjv9YMxxSvA&vprv=1&svpuc=1&mime=video%2Fmp4&ns=CQn7jZL6P8XId8LUfc9bSvkQ&rqh=1&cnr=14&ratebypass=yes&dur=177.609&lmt=1722811384264283&mt=1723588152&c=WEB_CREATOR&sefc=1&txp=5319224&n=C_S8B0ljty43zA&sparams=expire%2Cei%2Cip%2Cid%2Citag%2Csource%2Crequiressl%2Cxpc%2Cbui%2Cspc%2Cvprv%2Csvpuc%2Cmime%2Cns%2Crqh%2Ccnr%2Cratebypass%2Cdur%2Clmt&sig=AJfQdSswRQIhAJpP79yBIsD4wrC1Lp-6pJuB_Qg6cADDQNmdoTBxa-7RAiB9exNHr7zWSXq5FczgtuKBNvZl0SMJaX8JZV9fL_g6Mw%3D%3D&lsparams=mh%2Cmm%2Cmn%2Cms%2Cmv%2Cmvi%2Cpl%2Cinitcwndbps&lsig=AGtxev0wRgIhAL38189KaclncGqvsj2ePl7mMl2xj2OMxcIKEyl6GOecAiEA21f_lqtv2ny5JgK6-6AYgF1x_d0xmnQVWEpCdjNPUv4%3D\"\n"
          ]
        },
        {
          "output_type": "stream",
          "name": "stdout",
          "text": [
            "[download] video_1.mp4 has already been downloaded\n",
            "[download] 100% of    4.43MiB\n"
          ]
        },
        {
          "output_type": "stream",
          "name": "stderr",
          "text": [
            "[debug] Encodings: locale UTF-8, fs utf-8, pref UTF-8, out UTF-8 (No ANSI), error UTF-8 (No ANSI), screen UTF-8 (No ANSI)\n",
            "[debug] yt-dlp version stable@2024.08.06 from yt-dlp/yt-dlp [4d9231208] (pip) API\n",
            "[debug] params: {'format': 'best', 'outtmpl': 'video_2.mp4', 'noplaylist': True, 'quiet': False, 'verbose': True, 'force_generic_extractor': True, 'compat_opts': set(), 'http_headers': {'User-Agent': 'Mozilla/5.0 (Windows NT 10.0; Win64; x64) AppleWebKit/537.36 (KHTML, like Gecko) Chrome/91.0.4472.19 Safari/537.36', 'Accept': 'text/html,application/xhtml+xml,application/xml;q=0.9,*/*;q=0.8', 'Accept-Language': 'en-us,en;q=0.5', 'Sec-Fetch-Mode': 'navigate'}}\n",
            "[debug] Python 3.10.12 (CPython x86_64 64bit) - Linux-6.1.85+-x86_64-with-glibc2.35 (OpenSSL 3.0.2 15 Mar 2022, glibc 2.35)\n",
            "[debug] exe versions: ffmpeg 4.4.2 (setts), ffprobe 4.4.2\n",
            "[debug] Optional libraries: Cryptodome-3.20.0, brotli-1.1.0, certifi-2024.07.04, mutagen-1.47.0, requests-2.32.3, secretstorage-3.3.1, sqlite3-3.37.2, urllib3-2.0.7, websockets-12.0\n",
            "[debug] Proxy map: {'colab_language_server': '/usr/colab/bin/language_service'}\n",
            "[debug] Request Handlers: urllib, requests, websockets\n",
            "[debug] Loaded 1830 extractors\n"
          ]
        },
        {
          "output_type": "stream",
          "name": "stdout",
          "text": [
            "[generic] Extracting URL: https://www.youtube.com/watch?v=ZXiruGOCn9s\n",
            "[generic] watch?v=ZXiruGOCn9s: Downloading webpage\n"
          ]
        },
        {
          "output_type": "stream",
          "name": "stderr",
          "text": [
            "WARNING: [generic] Forcing generic information extractor\n"
          ]
        },
        {
          "output_type": "stream",
          "name": "stdout",
          "text": [
            "[generic] watch?v=ZXiruGOCn9s: Extracting information\n"
          ]
        },
        {
          "output_type": "stream",
          "name": "stderr",
          "text": [
            "[debug] Looking for embeds\n",
            "[debug] Identified a twitter:player iframe\n"
          ]
        },
        {
          "output_type": "stream",
          "name": "stdout",
          "text": [
            "[youtube] Extracting URL: https://www.youtube.com/embed/ZXiruGOCn9s\n",
            "[youtube] ZXiruGOCn9s: Downloading webpage\n",
            "[youtube] ZXiruGOCn9s: Downloading ios player API JSON\n",
            "[youtube] ZXiruGOCn9s: Downloading web creator player API JSON\n"
          ]
        },
        {
          "output_type": "stream",
          "name": "stderr",
          "text": [
            "[debug] Loading youtube-nsig.37b24ccb from cache\n",
            "[debug] [youtube] Decrypted nsig hAAan2DjR2EIU-Y => iBrecDZc2YVFLA\n"
          ]
        },
        {
          "output_type": "stream",
          "name": "stdout",
          "text": [
            "[youtube] ZXiruGOCn9s: Downloading m3u8 information\n"
          ]
        },
        {
          "output_type": "stream",
          "name": "stderr",
          "text": [
            "[debug] Sort order given by extractor: quality, res, fps, hdr:12, source, vcodec:vp9.2, channels, acodec, lang, proto\n",
            "[debug] Formats sorted by: hasvid, ie_pref, quality, res, fps, hdr:12(7), source, vcodec:vp9.2(10), channels, acodec, lang, proto, size, br, asr, vext, aext, hasaud, id\n"
          ]
        },
        {
          "output_type": "stream",
          "name": "stdout",
          "text": [
            "[info] ZXiruGOCn9s: Downloading 1 format(s): 18\n"
          ]
        },
        {
          "output_type": "stream",
          "name": "stderr",
          "text": [
            "[debug] Invoking http downloader on \"https://rr2---sn-q4fzen7e.googlevideo.com/videoplayback?expire=1723610016&ei=QN-7ZsrrMaL7sfIPq8a30Ac&ip=34.16.189.8&id=o-AAvmTWxr77ecCL9Y0xQyuCaBlsUFQeiYYnmxdVvc9n0E&itag=18&source=youtube&requiressl=yes&xpc=EgVo2aDSNQ%3D%3D&mh=R7&mm=31&mn=sn-q4fzen7e&ms=au&mv=m&mvi=2&pl=17&initcwndbps=1331250&bui=AQmm2exwct12N62jlMvruYAnf8s2Z5fPTl4MlJ0SEFHdhOEhfdI1OJdZluR_qqD6-f1YTadrfWQ7YDYv&spc=Mv1m9r9vx_KPjlO_4Gtlf2onq4H02OShexpU5rxJsUAYmbqbVXUcw90&vprv=1&svpuc=1&mime=video%2Fmp4&ns=PNsAnearqtGilYjRHm01MkcQ&rqh=1&cnr=14&ratebypass=yes&dur=350.040&lmt=1658617227152899&mt=1723588152&c=WEB_CREATOR&sefc=1&txp=6318224&n=iBrecDZc2YVFLA&sparams=expire%2Cei%2Cip%2Cid%2Citag%2Csource%2Crequiressl%2Cxpc%2Cbui%2Cspc%2Cvprv%2Csvpuc%2Cmime%2Cns%2Crqh%2Ccnr%2Cratebypass%2Cdur%2Clmt&sig=AJfQdSswRgIhANnm5P9cvxKeeCl7_geKZV8UsrT5ZC4TXJB4koUyv7cCAiEAi8XPnkBrrZk0DFJUdxQiQQsvGAW0SWNf5ILR-PzRA94%3D&lsparams=mh%2Cmm%2Cmn%2Cms%2Cmv%2Cmvi%2Cpl%2Cinitcwndbps&lsig=AGtxev0wRQIhAMTg8JQ4qDq1XAyhbc1G5Dqdstcn__wEr4GjxuhpLktCAiAFaN1PWJ5-FqYXbwfkeqTaiE3GqVVcaDp0fm_HaCmjTw%3D%3D\"\n"
          ]
        },
        {
          "output_type": "stream",
          "name": "stdout",
          "text": [
            "[download] video_2.mp4 has already been downloaded\n",
            "[download] 100% of   12.50MiB\n"
          ]
        },
        {
          "output_type": "stream",
          "name": "stderr",
          "text": [
            "[debug] Encodings: locale UTF-8, fs utf-8, pref UTF-8, out UTF-8 (No ANSI), error UTF-8 (No ANSI), screen UTF-8 (No ANSI)\n",
            "[debug] yt-dlp version stable@2024.08.06 from yt-dlp/yt-dlp [4d9231208] (pip) API\n",
            "[debug] params: {'format': 'best', 'outtmpl': 'video_3.mp4', 'noplaylist': True, 'quiet': False, 'verbose': True, 'force_generic_extractor': True, 'compat_opts': set(), 'http_headers': {'User-Agent': 'Mozilla/5.0 (Windows NT 10.0; Win64; x64) AppleWebKit/537.36 (KHTML, like Gecko) Chrome/91.0.4472.19 Safari/537.36', 'Accept': 'text/html,application/xhtml+xml,application/xml;q=0.9,*/*;q=0.8', 'Accept-Language': 'en-us,en;q=0.5', 'Sec-Fetch-Mode': 'navigate'}}\n",
            "[debug] Python 3.10.12 (CPython x86_64 64bit) - Linux-6.1.85+-x86_64-with-glibc2.35 (OpenSSL 3.0.2 15 Mar 2022, glibc 2.35)\n",
            "[debug] exe versions: ffmpeg 4.4.2 (setts), ffprobe 4.4.2\n",
            "[debug] Optional libraries: Cryptodome-3.20.0, brotli-1.1.0, certifi-2024.07.04, mutagen-1.47.0, requests-2.32.3, secretstorage-3.3.1, sqlite3-3.37.2, urllib3-2.0.7, websockets-12.0\n",
            "[debug] Proxy map: {'colab_language_server': '/usr/colab/bin/language_service'}\n",
            "[debug] Request Handlers: urllib, requests, websockets\n",
            "[debug] Loaded 1830 extractors\n"
          ]
        },
        {
          "output_type": "stream",
          "name": "stdout",
          "text": [
            "[generic] Extracting URL: https://www.youtube.com/watch?v=qnws5ZziB10\n",
            "[generic] watch?v=qnws5ZziB10: Downloading webpage\n"
          ]
        },
        {
          "output_type": "stream",
          "name": "stderr",
          "text": [
            "WARNING: [generic] Forcing generic information extractor\n"
          ]
        },
        {
          "output_type": "stream",
          "name": "stdout",
          "text": [
            "[generic] watch?v=qnws5ZziB10: Extracting information\n"
          ]
        },
        {
          "output_type": "stream",
          "name": "stderr",
          "text": [
            "[debug] Looking for embeds\n",
            "[debug] Identified a twitter:player iframe\n"
          ]
        },
        {
          "output_type": "stream",
          "name": "stdout",
          "text": [
            "[youtube] Extracting URL: https://www.youtube.com/embed/qnws5ZziB10\n",
            "[youtube] qnws5ZziB10: Downloading webpage\n",
            "[youtube] qnws5ZziB10: Downloading ios player API JSON\n",
            "[youtube] qnws5ZziB10: Downloading web creator player API JSON\n"
          ]
        },
        {
          "output_type": "stream",
          "name": "stderr",
          "text": [
            "[debug] Loading youtube-nsig.37b24ccb from cache\n",
            "[debug] [youtube] Decrypted nsig KO_NahC6Yv-Hvjq => p6xluWTbRRUc_Q\n",
            "[debug] Loading youtube-nsig.37b24ccb from cache\n",
            "[debug] [youtube] Decrypted nsig J5fPb6c0fbvhoUB => wLfJzNE1K90Wmw\n"
          ]
        },
        {
          "output_type": "stream",
          "name": "stdout",
          "text": [
            "[youtube] qnws5ZziB10: Downloading m3u8 information\n"
          ]
        },
        {
          "output_type": "stream",
          "name": "stderr",
          "text": [
            "[debug] Sort order given by extractor: quality, res, fps, hdr:12, source, vcodec:vp9.2, channels, acodec, lang, proto\n",
            "[debug] Formats sorted by: hasvid, ie_pref, quality, res, fps, hdr:12(7), source, vcodec:vp9.2(10), channels, acodec, lang, proto, size, br, asr, vext, aext, hasaud, id\n"
          ]
        },
        {
          "output_type": "stream",
          "name": "stdout",
          "text": [
            "[info] qnws5ZziB10: Downloading 1 format(s): 18\n"
          ]
        },
        {
          "output_type": "stream",
          "name": "stderr",
          "text": [
            "[debug] Invoking http downloader on \"https://rr4---sn-q4fzenee.googlevideo.com/videoplayback?expire=1723610020&ei=RN-7ZrzMLpL3sfIP4-Pd6Q0&ip=34.16.189.8&id=o-AFMIUmxC288d3SIsQc8XIHkPlg-D5r1h503P8ZYjgNMn&itag=18&source=youtube&requiressl=yes&xpc=EgVo2aDSNQ%3D%3D&mh=xB&mm=31&mn=sn-q4fzenee&ms=au&mv=m&mvi=4&pl=17&initcwndbps=1331250&bui=AQmm2ezyC2PPJb3shrxhLJ4ajj43SHv1Itme33PxwdnyFJlGXButQNHtXhMZaTZNkUFdSex-WsBKjSZ7&spc=Mv1m9utd4DqepL-izxd8pnRAky5Lj_07AxsFTs4LqjTU3r4vbaeqqbQ&vprv=1&svpuc=1&mime=video%2Fmp4&ns=c5vFaxdTKwVDisQuPN5uy4QQ&rqh=1&gir=yes&clen=9863606&ratebypass=yes&dur=134.559&lmt=1723024984313985&mt=1723587902&c=WEB_CREATOR&sefc=1&txp=5319224&n=p6xluWTbRRUc_Q&sparams=expire%2Cei%2Cip%2Cid%2Citag%2Csource%2Crequiressl%2Cxpc%2Cbui%2Cspc%2Cvprv%2Csvpuc%2Cmime%2Cns%2Crqh%2Cgir%2Cclen%2Cratebypass%2Cdur%2Clmt&sig=AJfQdSswRQIhAPM_PUwjcEfCxRu9qBsCOLAommNBO9_2ONymwnG_nPZZAiBxajzW9QN7SDa7dYOuvNs8m2DM2zpOhFdJPSQGEyx7tA%3D%3D&lsparams=mh%2Cmm%2Cmn%2Cms%2Cmv%2Cmvi%2Cpl%2Cinitcwndbps&lsig=AGtxev0wRQIhAO2HjlzFIdUKWtnpBjFSnjdmz_YV2Ef3952EW0vXeJkPAiA6RMEbKUowchDR3lG9fB6q3TJMD-Eatu8xUpuzIpx7xg%3D%3D\"\n"
          ]
        },
        {
          "output_type": "stream",
          "name": "stdout",
          "text": [
            "[download] video_3.mp4 has already been downloaded\n",
            "[download] 100% of    9.41MiB\n"
          ]
        },
        {
          "output_type": "stream",
          "name": "stderr",
          "text": [
            "[debug] Encodings: locale UTF-8, fs utf-8, pref UTF-8, out UTF-8 (No ANSI), error UTF-8 (No ANSI), screen UTF-8 (No ANSI)\n",
            "[debug] yt-dlp version stable@2024.08.06 from yt-dlp/yt-dlp [4d9231208] (pip) API\n",
            "[debug] params: {'format': 'best', 'outtmpl': 'video_4.mp4', 'noplaylist': True, 'quiet': False, 'verbose': True, 'force_generic_extractor': True, 'compat_opts': set(), 'http_headers': {'User-Agent': 'Mozilla/5.0 (Windows NT 10.0; Win64; x64) AppleWebKit/537.36 (KHTML, like Gecko) Chrome/91.0.4472.19 Safari/537.36', 'Accept': 'text/html,application/xhtml+xml,application/xml;q=0.9,*/*;q=0.8', 'Accept-Language': 'en-us,en;q=0.5', 'Sec-Fetch-Mode': 'navigate'}}\n",
            "[debug] Python 3.10.12 (CPython x86_64 64bit) - Linux-6.1.85+-x86_64-with-glibc2.35 (OpenSSL 3.0.2 15 Mar 2022, glibc 2.35)\n",
            "[debug] exe versions: ffmpeg 4.4.2 (setts), ffprobe 4.4.2\n",
            "[debug] Optional libraries: Cryptodome-3.20.0, brotli-1.1.0, certifi-2024.07.04, mutagen-1.47.0, requests-2.32.3, secretstorage-3.3.1, sqlite3-3.37.2, urllib3-2.0.7, websockets-12.0\n",
            "[debug] Proxy map: {'colab_language_server': '/usr/colab/bin/language_service'}\n",
            "[debug] Request Handlers: urllib, requests, websockets\n",
            "[debug] Loaded 1830 extractors\n"
          ]
        },
        {
          "output_type": "stream",
          "name": "stdout",
          "text": [
            "[generic] Extracting URL: https://www.youtube.com/watch?v=rEDzUT3ymw4\n",
            "[generic] watch?v=rEDzUT3ymw4: Downloading webpage\n"
          ]
        },
        {
          "output_type": "stream",
          "name": "stderr",
          "text": [
            "WARNING: [generic] Forcing generic information extractor\n"
          ]
        },
        {
          "output_type": "stream",
          "name": "stdout",
          "text": [
            "[generic] watch?v=rEDzUT3ymw4: Extracting information\n"
          ]
        },
        {
          "output_type": "stream",
          "name": "stderr",
          "text": [
            "[debug] Looking for embeds\n",
            "[debug] Identified a twitter:player iframe\n"
          ]
        },
        {
          "output_type": "stream",
          "name": "stdout",
          "text": [
            "[youtube] Extracting URL: https://www.youtube.com/embed/rEDzUT3ymw4\n",
            "[youtube] rEDzUT3ymw4: Downloading webpage\n",
            "[youtube] rEDzUT3ymw4: Downloading ios player API JSON\n",
            "[youtube] rEDzUT3ymw4: Downloading web creator player API JSON\n"
          ]
        },
        {
          "output_type": "stream",
          "name": "stderr",
          "text": [
            "[debug] Loading youtube-nsig.37b24ccb from cache\n",
            "[debug] [youtube] Decrypted nsig H7R2EpLBQvAY3pm => hh6akAVsZRmjYQ\n",
            "[debug] Loading youtube-nsig.37b24ccb from cache\n",
            "[debug] [youtube] Decrypted nsig 6NHye6SqhN4_IV- => yljbuiNTqvcMLQ\n"
          ]
        },
        {
          "output_type": "stream",
          "name": "stdout",
          "text": [
            "[youtube] rEDzUT3ymw4: Downloading m3u8 information\n"
          ]
        },
        {
          "output_type": "stream",
          "name": "stderr",
          "text": [
            "[debug] Sort order given by extractor: quality, res, fps, hdr:12, source, vcodec:vp9.2, channels, acodec, lang, proto\n",
            "[debug] Formats sorted by: hasvid, ie_pref, quality, res, fps, hdr:12(7), source, vcodec:vp9.2(10), channels, acodec, lang, proto, size, br, asr, vext, aext, hasaud, id\n"
          ]
        },
        {
          "output_type": "stream",
          "name": "stdout",
          "text": [
            "[info] rEDzUT3ymw4: Downloading 1 format(s): 18\n"
          ]
        },
        {
          "output_type": "stream",
          "name": "stderr",
          "text": [
            "[debug] Invoking http downloader on \"https://rr2---sn-q4fzene7.googlevideo.com/videoplayback?expire=1723610025&ei=Sd-7Zt6sAYLnsfIPnKuP-A0&ip=34.16.189.8&id=o-AAFA1Jz37Xc-111dSz9U1cR5L3XUcEEss4U6W6bn_VvI&itag=18&source=youtube&requiressl=yes&xpc=EgVo2aDSNQ%3D%3D&mh=Fc&mm=31&mn=sn-q4fzene7&ms=au&mv=m&mvi=2&pl=17&initcwndbps=1331250&bui=AQmm2ew8_uCLL7S9bqnTcb-giZJHYSbK3S-tnGp-R6p8AX3lCdw3psNt6fb3gmrKSB-E7z6rLJ3EluaQ&spc=Mv1m9g1206QuDjHLcWF6CCl7CmV-98iu8cBaNgRTUTaYx-dqTd3gWS8&vprv=1&svpuc=1&mime=video%2Fmp4&ns=iYcwQ0uaLcgURYOn7H6pa4UQ&rqh=1&cnr=14&ratebypass=yes&dur=63.854&lmt=1709339593363453&mt=1723587902&c=WEB_CREATOR&sefc=1&txp=4538434&n=hh6akAVsZRmjYQ&sparams=expire%2Cei%2Cip%2Cid%2Citag%2Csource%2Crequiressl%2Cxpc%2Cbui%2Cspc%2Cvprv%2Csvpuc%2Cmime%2Cns%2Crqh%2Ccnr%2Cratebypass%2Cdur%2Clmt&sig=AJfQdSswRAIgC3J4UTcFWd5bgU9WHxlqNmi1Wb6NfJpS3t1RryFr4Y8CIDMyugAHvTZ310056JmRMy_baaWoSP6fkEE4QB2zfkFy&lsparams=mh%2Cmm%2Cmn%2Cms%2Cmv%2Cmvi%2Cpl%2Cinitcwndbps&lsig=AGtxev0wRQIhAOw_1-eymJNDVRHCrq3PjtlF_yVF6uLl8rAO-W_HoVulAiAjbQkY23VVCUhjaw9gMIA45EFLB7e9pK6lSPdjK1ipfQ%3D%3D\"\n"
          ]
        },
        {
          "output_type": "stream",
          "name": "stdout",
          "text": [
            "[download] video_4.mp4 has already been downloaded\n",
            "[download] 100% of    1.40MiB\n"
          ]
        },
        {
          "output_type": "stream",
          "name": "stderr",
          "text": [
            "[debug] Encodings: locale UTF-8, fs utf-8, pref UTF-8, out UTF-8 (No ANSI), error UTF-8 (No ANSI), screen UTF-8 (No ANSI)\n",
            "[debug] yt-dlp version stable@2024.08.06 from yt-dlp/yt-dlp [4d9231208] (pip) API\n",
            "[debug] params: {'format': 'best', 'outtmpl': 'video_5.mp4', 'noplaylist': True, 'quiet': False, 'verbose': True, 'force_generic_extractor': True, 'compat_opts': set(), 'http_headers': {'User-Agent': 'Mozilla/5.0 (Windows NT 10.0; Win64; x64) AppleWebKit/537.36 (KHTML, like Gecko) Chrome/91.0.4472.19 Safari/537.36', 'Accept': 'text/html,application/xhtml+xml,application/xml;q=0.9,*/*;q=0.8', 'Accept-Language': 'en-us,en;q=0.5', 'Sec-Fetch-Mode': 'navigate'}}\n",
            "[debug] Python 3.10.12 (CPython x86_64 64bit) - Linux-6.1.85+-x86_64-with-glibc2.35 (OpenSSL 3.0.2 15 Mar 2022, glibc 2.35)\n",
            "[debug] exe versions: ffmpeg 4.4.2 (setts), ffprobe 4.4.2\n",
            "[debug] Optional libraries: Cryptodome-3.20.0, brotli-1.1.0, certifi-2024.07.04, mutagen-1.47.0, requests-2.32.3, secretstorage-3.3.1, sqlite3-3.37.2, urllib3-2.0.7, websockets-12.0\n",
            "[debug] Proxy map: {'colab_language_server': '/usr/colab/bin/language_service'}\n",
            "[debug] Request Handlers: urllib, requests, websockets\n",
            "[debug] Loaded 1830 extractors\n"
          ]
        },
        {
          "output_type": "stream",
          "name": "stdout",
          "text": [
            "[generic] Extracting URL: https://www.youtube.com/watch?v=_YPScrckx28\n",
            "[generic] watch?v=_YPScrckx28: Downloading webpage\n"
          ]
        },
        {
          "output_type": "stream",
          "name": "stderr",
          "text": [
            "WARNING: [generic] Forcing generic information extractor\n"
          ]
        },
        {
          "output_type": "stream",
          "name": "stdout",
          "text": [
            "[generic] watch?v=_YPScrckx28: Extracting information\n"
          ]
        },
        {
          "output_type": "stream",
          "name": "stderr",
          "text": [
            "[debug] Looking for embeds\n",
            "[debug] Identified a twitter:player iframe\n"
          ]
        },
        {
          "output_type": "stream",
          "name": "stdout",
          "text": [
            "[youtube] Extracting URL: https://www.youtube.com/embed/_YPScrckx28\n",
            "[youtube] _YPScrckx28: Downloading webpage\n",
            "[youtube] _YPScrckx28: Downloading ios player API JSON\n",
            "[youtube] _YPScrckx28: Downloading web creator player API JSON\n"
          ]
        },
        {
          "output_type": "stream",
          "name": "stderr",
          "text": [
            "[debug] Loading youtube-nsig.37b24ccb from cache\n",
            "[debug] [youtube] Decrypted nsig -GerFdbtRq_i7Tz => iXPkvAU2dMzPPA\n"
          ]
        },
        {
          "output_type": "stream",
          "name": "stdout",
          "text": [
            "[youtube] _YPScrckx28: Downloading m3u8 information\n"
          ]
        },
        {
          "output_type": "stream",
          "name": "stderr",
          "text": [
            "[debug] Sort order given by extractor: quality, res, fps, hdr:12, source, vcodec:vp9.2, channels, acodec, lang, proto\n",
            "[debug] Formats sorted by: hasvid, ie_pref, quality, res, fps, hdr:12(7), source, vcodec:vp9.2(10), channels, acodec, lang, proto, size, br, asr, vext, aext, hasaud, id\n"
          ]
        },
        {
          "output_type": "stream",
          "name": "stdout",
          "text": [
            "[info] _YPScrckx28: Downloading 1 format(s): 18\n"
          ]
        },
        {
          "output_type": "stream",
          "name": "stderr",
          "text": [
            "[debug] Invoking http downloader on \"https://rr3---sn-q4fl6ns6.googlevideo.com/videoplayback?expire=1723610029&ei=Td-7ZuvGJbr4sfIPpqWGyAc&ip=34.16.189.8&id=o-AE8cVbfXQ3HsBnxSFbpdazrA14oGgIrJAeDXt6VJbUT5&itag=18&source=youtube&requiressl=yes&xpc=EgVo2aDSNQ%3D%3D&mh=pf&mm=31%2C29&mn=sn-q4fl6ns6%2Csn-q4flrnez&ms=au%2Crdu&mv=m&mvi=3&pl=17&initcwndbps=1331250&bui=AQmm2ey7Ig3ZaMr9MVkcNpA7J3fkSAYa2oGpw4QEjFNN2YR_hMWXs2xuV3Ooymz4tg2RkMUB8nSKN7ZK&spc=Mv1m9jVHf6wq-f6F2NmuaUWi9RVwFJ7nMGapdUXhXKABWzaXbie_v-g&vprv=1&svpuc=1&mime=video%2Fmp4&ns=9irmXqUJx7fY7jSY6DET4msQ&rqh=1&cnr=14&ratebypass=yes&dur=138.924&lmt=1658909330409150&mt=1723587902&fvip=3&c=WEB_CREATOR&sefc=1&txp=5318224&n=iXPkvAU2dMzPPA&sparams=expire%2Cei%2Cip%2Cid%2Citag%2Csource%2Crequiressl%2Cxpc%2Cbui%2Cspc%2Cvprv%2Csvpuc%2Cmime%2Cns%2Crqh%2Ccnr%2Cratebypass%2Cdur%2Clmt&sig=AJfQdSswRQIgTUWuYFGHjUAD5BcN1Bel3JjQFOXIQdvSsj4uzX5LVWQCIQCBxPZeTZWVsfNqIQ6l1qX-TNHAHhJmUqA6t6v96B-myg%3D%3D&lsparams=mh%2Cmm%2Cmn%2Cms%2Cmv%2Cmvi%2Cpl%2Cinitcwndbps&lsig=AGtxev0wRQIhAIWEIVVHtYDxyG8gZjPF_-5YD_7CCSF6en27aJUyJ8YjAiAyWIsF3Pa-plcACEUdDTrdrJwrT9PrcL2RmwhQZvmt7A%3D%3D\"\n"
          ]
        },
        {
          "output_type": "stream",
          "name": "stdout",
          "text": [
            "[download] video_5.mp4 has already been downloaded\n",
            "[download] 100% of    3.19MiB\n"
          ]
        },
        {
          "output_type": "stream",
          "name": "stderr",
          "text": [
            "[debug] Encodings: locale UTF-8, fs utf-8, pref UTF-8, out UTF-8 (No ANSI), error UTF-8 (No ANSI), screen UTF-8 (No ANSI)\n",
            "[debug] yt-dlp version stable@2024.08.06 from yt-dlp/yt-dlp [4d9231208] (pip) API\n",
            "[debug] params: {'format': 'best', 'outtmpl': 'video_6.mp4', 'noplaylist': True, 'quiet': False, 'verbose': True, 'force_generic_extractor': True, 'compat_opts': set(), 'http_headers': {'User-Agent': 'Mozilla/5.0 (Windows NT 10.0; Win64; x64) AppleWebKit/537.36 (KHTML, like Gecko) Chrome/91.0.4472.19 Safari/537.36', 'Accept': 'text/html,application/xhtml+xml,application/xml;q=0.9,*/*;q=0.8', 'Accept-Language': 'en-us,en;q=0.5', 'Sec-Fetch-Mode': 'navigate'}}\n",
            "[debug] Python 3.10.12 (CPython x86_64 64bit) - Linux-6.1.85+-x86_64-with-glibc2.35 (OpenSSL 3.0.2 15 Mar 2022, glibc 2.35)\n",
            "[debug] exe versions: ffmpeg 4.4.2 (setts), ffprobe 4.4.2\n",
            "[debug] Optional libraries: Cryptodome-3.20.0, brotli-1.1.0, certifi-2024.07.04, mutagen-1.47.0, requests-2.32.3, secretstorage-3.3.1, sqlite3-3.37.2, urllib3-2.0.7, websockets-12.0\n",
            "[debug] Proxy map: {'colab_language_server': '/usr/colab/bin/language_service'}\n",
            "[debug] Request Handlers: urllib, requests, websockets\n",
            "[debug] Loaded 1830 extractors\n"
          ]
        },
        {
          "output_type": "stream",
          "name": "stdout",
          "text": [
            "[generic] Extracting URL: https://www.youtube.com/watch?v=fsQVfQt0HOk\n",
            "[generic] watch?v=fsQVfQt0HOk: Downloading webpage\n"
          ]
        },
        {
          "output_type": "stream",
          "name": "stderr",
          "text": [
            "WARNING: [generic] Forcing generic information extractor\n"
          ]
        },
        {
          "output_type": "stream",
          "name": "stdout",
          "text": [
            "[generic] watch?v=fsQVfQt0HOk: Extracting information\n"
          ]
        },
        {
          "output_type": "stream",
          "name": "stderr",
          "text": [
            "[debug] Looking for embeds\n",
            "[debug] Identified a twitter:player iframe\n"
          ]
        },
        {
          "output_type": "stream",
          "name": "stdout",
          "text": [
            "[youtube] Extracting URL: https://www.youtube.com/embed/fsQVfQt0HOk\n",
            "[youtube] fsQVfQt0HOk: Downloading webpage\n",
            "[youtube] fsQVfQt0HOk: Downloading ios player API JSON\n",
            "[youtube] fsQVfQt0HOk: Downloading web creator player API JSON\n"
          ]
        },
        {
          "output_type": "stream",
          "name": "stderr",
          "text": [
            "[debug] [youtube] Extracting signature function js_37b24ccb_107\n",
            "[debug] Loading youtube-sigfuncs.js_37b24ccb_107 from cache\n",
            "[debug] Loading youtube-nsig.37b24ccb from cache\n",
            "[debug] [youtube] Decrypted nsig MDvXA6Ys3AsAYaZ => IW27-VBU6iEOsA\n",
            "[debug] Loading youtube-nsig.37b24ccb from cache\n",
            "[debug] [youtube] Decrypted nsig hDrjrU6rCDIay70 => TGVwU0duUlAN9A\n",
            "[debug] [youtube] Extracting signature function js_37b24ccb_103\n",
            "[debug] Loading youtube-sigfuncs.js_37b24ccb_103 from cache\n"
          ]
        },
        {
          "output_type": "stream",
          "name": "stdout",
          "text": [
            "[youtube] fsQVfQt0HOk: Downloading m3u8 information\n"
          ]
        },
        {
          "output_type": "stream",
          "name": "stderr",
          "text": [
            "[debug] Sort order given by extractor: quality, res, fps, hdr:12, source, vcodec:vp9.2, channels, acodec, lang, proto\n",
            "[debug] Formats sorted by: hasvid, ie_pref, quality, res, fps, hdr:12(7), source, vcodec:vp9.2(10), channels, acodec, lang, proto, size, br, asr, vext, aext, hasaud, id\n"
          ]
        },
        {
          "output_type": "stream",
          "name": "stdout",
          "text": [
            "[info] fsQVfQt0HOk: Downloading 1 format(s): 18\n"
          ]
        },
        {
          "output_type": "stream",
          "name": "stderr",
          "text": [
            "[debug] Invoking http downloader on \"https://rr5---sn-q4flrney.googlevideo.com/videoplayback?expire=1723610033&ei=Ud-7ZvuyLra9sfIP2auauAU&ip=34.16.189.8&id=o-AIOsxCZT1n8VOFpq_SKla4pw2yOaSR26wWsJAV1kpIR8&itag=18&source=youtube&requiressl=yes&xpc=EgVo2aDSNQ%3D%3D&mh=mL&mm=31&mn=sn-q4flrney&ms=au&mv=m&mvi=5&pl=17&initcwndbps=1331250&bui=AQmm2exboe_iTVkULC7oYK88WE1eVSd_YcXgodcUivIRlJrS7EDbMR_P_bBA0SWa1acDJOFQswk6CcQ_&spc=Mv1m9tYhD8sSEHl2p_tmnwkHDZVne0msPXyfdKtq45LTFF0_-BipXOY&vprv=1&svpuc=1&mime=video%2Fmp4&ns=yjc8ZY4rccfBkr-kAPkxp4oQ&rqh=1&cnr=14&ratebypass=yes&dur=163.932&lmt=1709429847755259&mt=1723588152&c=WEB_CREATOR&sefc=1&txp=4538434&n=IW27-VBU6iEOsA&sparams=expire%2Cei%2Cip%2Cid%2Citag%2Csource%2Crequiressl%2Cxpc%2Cbui%2Cspc%2Cvprv%2Csvpuc%2Cmime%2Cns%2Crqh%2Ccnr%2Cratebypass%2Cdur%2Clmt&lsparams=mh%2Cmm%2Cmn%2Cms%2Cmv%2Cmvi%2Cpl%2Cinitcwndbps&lsig=AGtxev0wRQIhANUcOLblhLYKz0yXDsGMcOuPqf3hLOWtHrd8Pr54qZpkAiAV-atctAIrrmOyd0mR3rYBjcZS93Y1PwPeTiwLcusdGw%3D%3D&sig=AJfQdSswRQIhAM_UreMqGUnnFGjYmOJl0J2CbOo4atnAXrc2eMB8McX6AiAjzgeB43yJv3JgCouV_KP-ggk8V5j5-jJmi9yrl9tayQ%3D%3D\"\n"
          ]
        },
        {
          "output_type": "stream",
          "name": "stdout",
          "text": [
            "[download] video_6.mp4 has already been downloaded\n",
            "[download] 100% of    7.39MiB\n"
          ]
        },
        {
          "output_type": "stream",
          "name": "stderr",
          "text": [
            "[debug] Encodings: locale UTF-8, fs utf-8, pref UTF-8, out UTF-8 (No ANSI), error UTF-8 (No ANSI), screen UTF-8 (No ANSI)\n",
            "[debug] yt-dlp version stable@2024.08.06 from yt-dlp/yt-dlp [4d9231208] (pip) API\n",
            "[debug] params: {'format': 'best', 'outtmpl': 'video_7.mp4', 'noplaylist': True, 'quiet': False, 'verbose': True, 'force_generic_extractor': True, 'compat_opts': set(), 'http_headers': {'User-Agent': 'Mozilla/5.0 (Windows NT 10.0; Win64; x64) AppleWebKit/537.36 (KHTML, like Gecko) Chrome/91.0.4472.19 Safari/537.36', 'Accept': 'text/html,application/xhtml+xml,application/xml;q=0.9,*/*;q=0.8', 'Accept-Language': 'en-us,en;q=0.5', 'Sec-Fetch-Mode': 'navigate'}}\n",
            "[debug] Python 3.10.12 (CPython x86_64 64bit) - Linux-6.1.85+-x86_64-with-glibc2.35 (OpenSSL 3.0.2 15 Mar 2022, glibc 2.35)\n",
            "[debug] exe versions: ffmpeg 4.4.2 (setts), ffprobe 4.4.2\n",
            "[debug] Optional libraries: Cryptodome-3.20.0, brotli-1.1.0, certifi-2024.07.04, mutagen-1.47.0, requests-2.32.3, secretstorage-3.3.1, sqlite3-3.37.2, urllib3-2.0.7, websockets-12.0\n",
            "[debug] Proxy map: {'colab_language_server': '/usr/colab/bin/language_service'}\n",
            "[debug] Request Handlers: urllib, requests, websockets\n",
            "[debug] Loaded 1830 extractors\n"
          ]
        },
        {
          "output_type": "stream",
          "name": "stdout",
          "text": [
            "[generic] Extracting URL: https://www.youtube.com/watch?v=beAvFHP4wDI\n",
            "[generic] watch?v=beAvFHP4wDI: Downloading webpage\n"
          ]
        },
        {
          "output_type": "stream",
          "name": "stderr",
          "text": [
            "WARNING: [generic] Forcing generic information extractor\n"
          ]
        },
        {
          "output_type": "stream",
          "name": "stdout",
          "text": [
            "[generic] watch?v=beAvFHP4wDI: Extracting information\n"
          ]
        },
        {
          "output_type": "stream",
          "name": "stderr",
          "text": [
            "[debug] Looking for embeds\n",
            "[debug] Identified a twitter:player iframe\n"
          ]
        },
        {
          "output_type": "stream",
          "name": "stdout",
          "text": [
            "[youtube] Extracting URL: https://www.youtube.com/embed/beAvFHP4wDI\n",
            "[youtube] beAvFHP4wDI: Downloading webpage\n",
            "[youtube] beAvFHP4wDI: Downloading ios player API JSON\n",
            "[youtube] beAvFHP4wDI: Downloading web creator player API JSON\n"
          ]
        },
        {
          "output_type": "stream",
          "name": "stderr",
          "text": [
            "[debug] Loading youtube-nsig.37b24ccb from cache\n",
            "[debug] [youtube] Decrypted nsig uaV4hISXFhmMWV7 => W9PE1R7g4Dq5BQ\n",
            "[debug] Loading youtube-nsig.37b24ccb from cache\n",
            "[debug] [youtube] Decrypted nsig Q3EuuXyoCkL_l3c => TOskGDgTHGZKbQ\n"
          ]
        },
        {
          "output_type": "stream",
          "name": "stdout",
          "text": [
            "[youtube] beAvFHP4wDI: Downloading m3u8 information\n"
          ]
        },
        {
          "output_type": "stream",
          "name": "stderr",
          "text": [
            "[debug] Sort order given by extractor: quality, res, fps, hdr:12, source, vcodec:vp9.2, channels, acodec, lang, proto\n",
            "[debug] Formats sorted by: hasvid, ie_pref, quality, res, fps, hdr:12(7), source, vcodec:vp9.2(10), channels, acodec, lang, proto, size, br, asr, vext, aext, hasaud, id\n"
          ]
        },
        {
          "output_type": "stream",
          "name": "stdout",
          "text": [
            "[info] beAvFHP4wDI: Downloading 1 format(s): 18\n"
          ]
        },
        {
          "output_type": "stream",
          "name": "stderr",
          "text": [
            "[debug] Invoking http downloader on \"https://rr5---sn-q4flrnlz.googlevideo.com/videoplayback?expire=1723610038&ei=Vt-7ZqyZE4HFsfIPu_vTsAU&ip=34.16.189.8&id=o-AHCthBgtm38hyX_DVdF5885E2vGPYfsSKA0QycXGbCqw&itag=18&source=youtube&requiressl=yes&xpc=EgVo2aDSNQ%3D%3D&mh=pz&mm=31&mn=sn-q4flrnlz&ms=au&mv=m&mvi=5&pl=17&initcwndbps=1331250&bui=AQmm2ewKSdQAkVuvQ9666KJfHfWxkU6vHOLczxYZA_zyJXgEnf6enAtlmq4wFspKYbCAILeJLY4VfGJ-&spc=Mv1m9oIYAvQpjotTqMfIWV04VMdq3OpjZRvv2yI1vGlSfuvNQSCeorU&vprv=1&svpuc=1&mime=video%2Fmp4&ns=mGyncjvc5HhI4YpReFEAG8oQ&rqh=1&cnr=14&ratebypass=yes&dur=69.961&lmt=1666636455433693&mt=1723588152&c=WEB_CREATOR&sefc=1&txp=1438434&n=W9PE1R7g4Dq5BQ&sparams=expire%2Cei%2Cip%2Cid%2Citag%2Csource%2Crequiressl%2Cxpc%2Cbui%2Cspc%2Cvprv%2Csvpuc%2Cmime%2Cns%2Crqh%2Ccnr%2Cratebypass%2Cdur%2Clmt&sig=AJfQdSswRQIhAO8Hl5JgTBFZhZ8ufo838nznm2-2HmIEIdTGstETvM4iAiBQikDnCHdC8X4pbH10Lkyzf4rv9Dvwq48IMx8001_nSg%3D%3D&lsparams=mh%2Cmm%2Cmn%2Cms%2Cmv%2Cmvi%2Cpl%2Cinitcwndbps&lsig=AGtxev0wRQIgKTjeJwPcC5WJlM80T7dRWbDU1mHbL6onovfE23vCLNYCIQCH8CrS5Xn5q15CR--y8eBCrzI1Mrxg4Qd6lB5Pzu-eRA%3D%3D\"\n"
          ]
        },
        {
          "output_type": "stream",
          "name": "stdout",
          "text": [
            "[download] video_7.mp4 has already been downloaded\n",
            "[download] 100% of    1.86MiB\n"
          ]
        },
        {
          "output_type": "stream",
          "name": "stderr",
          "text": [
            "[debug] Encodings: locale UTF-8, fs utf-8, pref UTF-8, out UTF-8 (No ANSI), error UTF-8 (No ANSI), screen UTF-8 (No ANSI)\n",
            "[debug] yt-dlp version stable@2024.08.06 from yt-dlp/yt-dlp [4d9231208] (pip) API\n",
            "[debug] params: {'format': 'best', 'outtmpl': 'video_8.mp4', 'noplaylist': True, 'quiet': False, 'verbose': True, 'force_generic_extractor': True, 'compat_opts': set(), 'http_headers': {'User-Agent': 'Mozilla/5.0 (Windows NT 10.0; Win64; x64) AppleWebKit/537.36 (KHTML, like Gecko) Chrome/91.0.4472.19 Safari/537.36', 'Accept': 'text/html,application/xhtml+xml,application/xml;q=0.9,*/*;q=0.8', 'Accept-Language': 'en-us,en;q=0.5', 'Sec-Fetch-Mode': 'navigate'}}\n",
            "[debug] Python 3.10.12 (CPython x86_64 64bit) - Linux-6.1.85+-x86_64-with-glibc2.35 (OpenSSL 3.0.2 15 Mar 2022, glibc 2.35)\n",
            "[debug] exe versions: ffmpeg 4.4.2 (setts), ffprobe 4.4.2\n",
            "[debug] Optional libraries: Cryptodome-3.20.0, brotli-1.1.0, certifi-2024.07.04, mutagen-1.47.0, requests-2.32.3, secretstorage-3.3.1, sqlite3-3.37.2, urllib3-2.0.7, websockets-12.0\n",
            "[debug] Proxy map: {'colab_language_server': '/usr/colab/bin/language_service'}\n",
            "[debug] Request Handlers: urllib, requests, websockets\n",
            "[debug] Loaded 1830 extractors\n"
          ]
        },
        {
          "output_type": "stream",
          "name": "stdout",
          "text": [
            "[generic] Extracting URL: https://www.youtube.com/watch?v=ezTPNACVVos\n",
            "[generic] watch?v=ezTPNACVVos: Downloading webpage\n"
          ]
        },
        {
          "output_type": "stream",
          "name": "stderr",
          "text": [
            "WARNING: [generic] Forcing generic information extractor\n"
          ]
        },
        {
          "output_type": "stream",
          "name": "stdout",
          "text": [
            "[generic] watch?v=ezTPNACVVos: Extracting information\n"
          ]
        },
        {
          "output_type": "stream",
          "name": "stderr",
          "text": [
            "[debug] Looking for embeds\n",
            "[debug] Identified a twitter:player iframe\n"
          ]
        },
        {
          "output_type": "stream",
          "name": "stdout",
          "text": [
            "[youtube] Extracting URL: https://www.youtube.com/embed/ezTPNACVVos\n",
            "[youtube] ezTPNACVVos: Downloading webpage\n",
            "[youtube] ezTPNACVVos: Downloading ios player API JSON\n",
            "[youtube] ezTPNACVVos: Downloading web creator player API JSON\n"
          ]
        },
        {
          "output_type": "stream",
          "name": "stderr",
          "text": [
            "[debug] Loading youtube-nsig.37b24ccb from cache\n",
            "[debug] [youtube] Decrypted nsig 0HrJfOk4Q1c78SR => hYNmaRxPeXAaQw\n"
          ]
        },
        {
          "output_type": "stream",
          "name": "stdout",
          "text": [
            "[youtube] ezTPNACVVos: Downloading m3u8 information\n"
          ]
        },
        {
          "output_type": "stream",
          "name": "stderr",
          "text": [
            "[debug] Sort order given by extractor: quality, res, fps, hdr:12, source, vcodec:vp9.2, channels, acodec, lang, proto\n",
            "[debug] Formats sorted by: hasvid, ie_pref, quality, res, fps, hdr:12(7), source, vcodec:vp9.2(10), channels, acodec, lang, proto, size, br, asr, vext, aext, hasaud, id\n"
          ]
        },
        {
          "output_type": "stream",
          "name": "stdout",
          "text": [
            "[info] ezTPNACVVos: Downloading 1 format(s): 18\n"
          ]
        },
        {
          "output_type": "stream",
          "name": "stderr",
          "text": [
            "[debug] Invoking http downloader on \"https://rr1---sn-q4flrnl6.googlevideo.com/videoplayback?expire=1723610043&ei=W9-7ZouSArKpsfIPhYO_qAs&ip=34.16.189.8&id=o-AF_drWyDS82vmZXWk_MWcX1vF4QXozyeXrmfTh58n_cW&itag=18&source=youtube&requiressl=yes&xpc=EgVo2aDSNQ%3D%3D&mh=Wp&mm=31&mn=sn-q4flrnl6&ms=au&mv=m&mvi=1&pl=17&initcwndbps=995000&bui=AQmm2ez3Ukm22OvCCsuQhBRD9OzSZ7WRwXXXTb3EcOeX1d01YEWdwnOYUtSmFgsUbcV9C4XnL2rW7BoS&spc=Mv1m9qp_ANPylDf0f-y5AFZpeEMMCDet_L_RTgOvKVBFNvFdcntOmZE&vprv=1&svpuc=1&mime=video%2Fmp4&ns=MoisLkIV-vttFIcyAwi84kIQ&rqh=1&gir=yes&clen=14005057&ratebypass=yes&dur=296.240&lmt=1668219164492199&mt=1723588381&c=WEB_CREATOR&sefc=1&txp=4538434&n=hYNmaRxPeXAaQw&sparams=expire%2Cei%2Cip%2Cid%2Citag%2Csource%2Crequiressl%2Cxpc%2Cbui%2Cspc%2Cvprv%2Csvpuc%2Cmime%2Cns%2Crqh%2Cgir%2Cclen%2Cratebypass%2Cdur%2Clmt&sig=AJfQdSswRQIhAODMs2cXjGA6dxapNiBc253s0tiYP3dfOXKALp7IUtXpAiBW7bPUlQJKMTBAjZmZroFnbTUaHJgu6nGll5NlocEL9w%3D%3D&lsparams=mh%2Cmm%2Cmn%2Cms%2Cmv%2Cmvi%2Cpl%2Cinitcwndbps&lsig=AGtxev0wRQIgfi-JlK-kOKh8SIn_uVmP5vC7-D2_uWb_0zAwRxfTkxECIQC9si3YxJHu2SWmKu3LoQhZ_UHo_sqrGKK30ZIGuc9SSA%3D%3D\"\n"
          ]
        },
        {
          "output_type": "stream",
          "name": "stdout",
          "text": [
            "[download] video_8.mp4 has already been downloaded\n",
            "[download] 100% of   13.36MiB\n"
          ]
        },
        {
          "output_type": "stream",
          "name": "stderr",
          "text": [
            "[debug] Encodings: locale UTF-8, fs utf-8, pref UTF-8, out UTF-8 (No ANSI), error UTF-8 (No ANSI), screen UTF-8 (No ANSI)\n",
            "[debug] yt-dlp version stable@2024.08.06 from yt-dlp/yt-dlp [4d9231208] (pip) API\n",
            "[debug] params: {'format': 'best', 'outtmpl': 'video_9.mp4', 'noplaylist': True, 'quiet': False, 'verbose': True, 'force_generic_extractor': True, 'compat_opts': set(), 'http_headers': {'User-Agent': 'Mozilla/5.0 (Windows NT 10.0; Win64; x64) AppleWebKit/537.36 (KHTML, like Gecko) Chrome/91.0.4472.19 Safari/537.36', 'Accept': 'text/html,application/xhtml+xml,application/xml;q=0.9,*/*;q=0.8', 'Accept-Language': 'en-us,en;q=0.5', 'Sec-Fetch-Mode': 'navigate'}}\n",
            "[debug] Python 3.10.12 (CPython x86_64 64bit) - Linux-6.1.85+-x86_64-with-glibc2.35 (OpenSSL 3.0.2 15 Mar 2022, glibc 2.35)\n",
            "[debug] exe versions: ffmpeg 4.4.2 (setts), ffprobe 4.4.2\n",
            "[debug] Optional libraries: Cryptodome-3.20.0, brotli-1.1.0, certifi-2024.07.04, mutagen-1.47.0, requests-2.32.3, secretstorage-3.3.1, sqlite3-3.37.2, urllib3-2.0.7, websockets-12.0\n",
            "[debug] Proxy map: {'colab_language_server': '/usr/colab/bin/language_service'}\n",
            "[debug] Request Handlers: urllib, requests, websockets\n",
            "[debug] Loaded 1830 extractors\n"
          ]
        },
        {
          "output_type": "stream",
          "name": "stdout",
          "text": [
            "[generic] Extracting URL: https://www.youtube.com/watch?v=iudXf5n_3ro\n",
            "[generic] watch?v=iudXf5n_3ro: Downloading webpage\n"
          ]
        },
        {
          "output_type": "stream",
          "name": "stderr",
          "text": [
            "WARNING: [generic] Forcing generic information extractor\n"
          ]
        },
        {
          "output_type": "stream",
          "name": "stdout",
          "text": [
            "[generic] watch?v=iudXf5n_3ro: Extracting information\n"
          ]
        },
        {
          "output_type": "stream",
          "name": "stderr",
          "text": [
            "[debug] Looking for embeds\n",
            "[debug] Identified a twitter:player iframe\n"
          ]
        },
        {
          "output_type": "stream",
          "name": "stdout",
          "text": [
            "[youtube] Extracting URL: https://www.youtube.com/embed/iudXf5n_3ro\n",
            "[youtube] iudXf5n_3ro: Downloading webpage\n",
            "[youtube] iudXf5n_3ro: Downloading ios player API JSON\n",
            "[youtube] iudXf5n_3ro: Downloading web creator player API JSON\n"
          ]
        },
        {
          "output_type": "stream",
          "name": "stderr",
          "text": [
            "[debug] Loading youtube-nsig.37b24ccb from cache\n",
            "[debug] [youtube] Decrypted nsig M0Ng08CgREIi6hb => iDcSK5d2cmiC-g\n"
          ]
        },
        {
          "output_type": "stream",
          "name": "stdout",
          "text": [
            "[youtube] iudXf5n_3ro: Downloading m3u8 information\n"
          ]
        },
        {
          "output_type": "stream",
          "name": "stderr",
          "text": [
            "[debug] Sort order given by extractor: quality, res, fps, hdr:12, source, vcodec:vp9.2, channels, acodec, lang, proto\n",
            "[debug] Formats sorted by: hasvid, ie_pref, quality, res, fps, hdr:12(7), source, vcodec:vp9.2(10), channels, acodec, lang, proto, size, br, asr, vext, aext, hasaud, id\n"
          ]
        },
        {
          "output_type": "stream",
          "name": "stdout",
          "text": [
            "[info] iudXf5n_3ro: Downloading 1 format(s): 18\n"
          ]
        },
        {
          "output_type": "stream",
          "name": "stderr",
          "text": [
            "[debug] Invoking http downloader on \"https://rr3---sn-q4flrnl6.googlevideo.com/videoplayback?expire=1723610047&ei=X9-7ZuKtBZT3sfIPlc7C0QM&ip=34.16.189.8&id=o-AKltMegrz5H73ii5KrLL0biOM3X9q9RosTtqR05-yA6w&itag=18&source=youtube&requiressl=yes&xpc=EgVo2aDSNQ%3D%3D&mh=B0&mm=31&mn=sn-q4flrnl6&ms=au&mv=m&mvi=3&pl=17&initcwndbps=1331250&bui=AQmm2eyZE-8oi_mlgjbDOHE9z5bmwUjo88HxfYJ72mBpC66tbqNiY5EjekSyVBLvK5ZVdsKHBznXEaQO&spc=Mv1m9sJGErw3irkIeeC3qaGBViC0iLTeikq99WZCzHI8kg4xkwtdE6s&vprv=1&svpuc=1&mime=video%2Fmp4&ns=fiCddZ2DcuR8QolTDtan7Z4Q&rqh=1&cnr=14&ratebypass=yes&dur=197.090&lmt=1658752017113856&mt=1723588152&c=WEB_CREATOR&sefc=1&txp=5318224&n=iDcSK5d2cmiC-g&sparams=expire%2Cei%2Cip%2Cid%2Citag%2Csource%2Crequiressl%2Cxpc%2Cbui%2Cspc%2Cvprv%2Csvpuc%2Cmime%2Cns%2Crqh%2Ccnr%2Cratebypass%2Cdur%2Clmt&sig=AJfQdSswRAIgHEw38_Nh--w7txdj8qs0g-tQyobc9OIkULjgYLTZSlUCIG-_F8ZfoRiY5YHdlr71i-5qPwULpYaiOSQofjYRlSv-&lsparams=mh%2Cmm%2Cmn%2Cms%2Cmv%2Cmvi%2Cpl%2Cinitcwndbps&lsig=AGtxev0wRQIge4x8vpt60vdN01LWn2zpPui6imgB0-n72VTXzC0XxesCIQDnDHjKxdSkUAEBM7zQz6DetUIBGVfXt3qk2fy8fL1IHA%3D%3D\"\n"
          ]
        },
        {
          "output_type": "stream",
          "name": "stdout",
          "text": [
            "[download] video_9.mp4 has already been downloaded\n",
            "[download] 100% of    4.45MiB\n"
          ]
        },
        {
          "output_type": "stream",
          "name": "stderr",
          "text": [
            "[debug] Encodings: locale UTF-8, fs utf-8, pref UTF-8, out UTF-8 (No ANSI), error UTF-8 (No ANSI), screen UTF-8 (No ANSI)\n",
            "[debug] yt-dlp version stable@2024.08.06 from yt-dlp/yt-dlp [4d9231208] (pip) API\n",
            "[debug] params: {'format': 'best', 'outtmpl': 'video_10.mp4', 'noplaylist': True, 'quiet': False, 'verbose': True, 'force_generic_extractor': True, 'compat_opts': set(), 'http_headers': {'User-Agent': 'Mozilla/5.0 (Windows NT 10.0; Win64; x64) AppleWebKit/537.36 (KHTML, like Gecko) Chrome/91.0.4472.19 Safari/537.36', 'Accept': 'text/html,application/xhtml+xml,application/xml;q=0.9,*/*;q=0.8', 'Accept-Language': 'en-us,en;q=0.5', 'Sec-Fetch-Mode': 'navigate'}}\n",
            "[debug] Python 3.10.12 (CPython x86_64 64bit) - Linux-6.1.85+-x86_64-with-glibc2.35 (OpenSSL 3.0.2 15 Mar 2022, glibc 2.35)\n",
            "[debug] exe versions: ffmpeg 4.4.2 (setts), ffprobe 4.4.2\n",
            "[debug] Optional libraries: Cryptodome-3.20.0, brotli-1.1.0, certifi-2024.07.04, mutagen-1.47.0, requests-2.32.3, secretstorage-3.3.1, sqlite3-3.37.2, urllib3-2.0.7, websockets-12.0\n",
            "[debug] Proxy map: {'colab_language_server': '/usr/colab/bin/language_service'}\n",
            "[debug] Request Handlers: urllib, requests, websockets\n",
            "[debug] Loaded 1830 extractors\n"
          ]
        },
        {
          "output_type": "stream",
          "name": "stdout",
          "text": [
            "[generic] Extracting URL: https://www.youtube.com/watch?v=TV_x6YUdnvg\n",
            "[generic] watch?v=TV_x6YUdnvg: Downloading webpage\n"
          ]
        },
        {
          "output_type": "stream",
          "name": "stderr",
          "text": [
            "WARNING: [generic] Forcing generic information extractor\n"
          ]
        },
        {
          "output_type": "stream",
          "name": "stdout",
          "text": [
            "[generic] watch?v=TV_x6YUdnvg: Extracting information\n"
          ]
        },
        {
          "output_type": "stream",
          "name": "stderr",
          "text": [
            "[debug] Looking for embeds\n",
            "[debug] Identified a twitter:player iframe\n"
          ]
        },
        {
          "output_type": "stream",
          "name": "stdout",
          "text": [
            "[youtube] Extracting URL: https://www.youtube.com/embed/TV_x6YUdnvg\n",
            "[youtube] TV_x6YUdnvg: Downloading webpage\n",
            "[youtube] TV_x6YUdnvg: Downloading ios player API JSON\n",
            "[youtube] TV_x6YUdnvg: Downloading web creator player API JSON\n"
          ]
        },
        {
          "output_type": "stream",
          "name": "stderr",
          "text": [
            "[debug] Loading youtube-nsig.37b24ccb from cache\n",
            "[debug] [youtube] Decrypted nsig cEk7ap4wDoQCHn6 => UWuwKBlWpK5SEA\n"
          ]
        },
        {
          "output_type": "stream",
          "name": "stdout",
          "text": [
            "[youtube] TV_x6YUdnvg: Downloading m3u8 information\n"
          ]
        },
        {
          "output_type": "stream",
          "name": "stderr",
          "text": [
            "[debug] Sort order given by extractor: quality, res, fps, hdr:12, source, vcodec:vp9.2, channels, acodec, lang, proto\n",
            "[debug] Formats sorted by: hasvid, ie_pref, quality, res, fps, hdr:12(7), source, vcodec:vp9.2(10), channels, acodec, lang, proto, size, br, asr, vext, aext, hasaud, id\n"
          ]
        },
        {
          "output_type": "stream",
          "name": "stdout",
          "text": [
            "[info] TV_x6YUdnvg: Downloading 1 format(s): 18\n"
          ]
        },
        {
          "output_type": "stream",
          "name": "stderr",
          "text": [
            "[debug] Invoking http downloader on \"https://rr1---sn-q4fl6nsy.googlevideo.com/videoplayback?expire=1723610051&ei=Y9-7ZsADoPix8g-JmIm5Aw&ip=34.16.189.8&id=o-ADrWlMHZj3MzNRMS1XmDpSLyIxOJ4tpzGS_B0zGY3QP5&itag=18&source=youtube&requiressl=yes&xpc=EgVo2aDSNQ%3D%3D&mh=D0&mm=31%2C29&mn=sn-q4fl6nsy%2Csn-q4flrnsd&ms=au%2Crdu&mv=m&mvi=1&pl=17&initcwndbps=1331250&bui=AQmm2eybhxqx4CmSFmm03_UN8wiv8b87vnQXDICmmTzuqx7TJEKoOmzq4eJ7jgOuTYA7T1VYwExidhEE&spc=Mv1m9jL17pcTx2REcsM1KcCi1HGVlFj82EtWsfzo8hodZ_kzyxIgGOI&vprv=1&svpuc=1&mime=video%2Fmp4&ns=2eb5djQkyvIi4aUFxPdNM_8Q&rqh=1&cnr=14&ratebypass=yes&dur=58.583&lmt=1664106129345001&mt=1723588152&fvip=1&c=WEB_CREATOR&sefc=1&txp=5538434&n=UWuwKBlWpK5SEA&sparams=expire%2Cei%2Cip%2Cid%2Citag%2Csource%2Crequiressl%2Cxpc%2Cbui%2Cspc%2Cvprv%2Csvpuc%2Cmime%2Cns%2Crqh%2Ccnr%2Cratebypass%2Cdur%2Clmt&sig=AJfQdSswRAIgCqzAf_Ynsn3t0822y8slSPwg2gER1Uh827PUE0Nd1VoCIFQ0lLz0a90rPQxQfiKFPgtRAs5gPyhi2f-9gtlSU9YD&lsparams=mh%2Cmm%2Cmn%2Cms%2Cmv%2Cmvi%2Cpl%2Cinitcwndbps&lsig=AGtxev0wRQIgRpim0jh7ZzqoFFsJsBeBRs7RZXdNbrFxnxg9cW1NOEkCIQDqVhLkUHPMjfD-i5wlf-gmZltRMQNWxrB9io62dQ6PNA%3D%3D\"\n"
          ]
        },
        {
          "output_type": "stream",
          "name": "stdout",
          "text": [
            "[download] video_10.mp4 has already been downloaded\n",
            "[download] 100% of    2.10MiB\n"
          ]
        }
      ]
    },
    {
      "cell_type": "code",
      "source": [
        "import cv2\n",
        "import os\n",
        "from PIL import Image\n",
        "\n",
        "def extract_frames(video_path, interval=1):\n",
        "    cap = cv2.VideoCapture(video_path)\n",
        "    frames = []\n",
        "    success, image = cap.read()\n",
        "    count = 0\n",
        "    while success:\n",
        "        if count % interval == 0:\n",
        "            image = cv2.cvtColor(image, cv2.COLOR_BGR2RGB)\n",
        "            frames.append(Image.fromarray(image))\n",
        "        success, image = cap.read()\n",
        "        count += 1\n",
        "    cap.release()\n",
        "    return frames\n",
        "\n",
        "video_dir = \"/content/\"  # Adjust this to your video directory\n",
        "video_frames = {}\n",
        "\n",
        "for video_file in os.listdir(video_dir):\n",
        "    if video_file.endswith(\".mp4\"):  # Look for .webm files\n",
        "        video_path = os.path.join(video_dir, video_file)\n",
        "        video_id = video_file.split('.')[0]\n",
        "        frames = extract_frames(video_path, interval=30)  # Extract a frame every 30 frames\n",
        "        video_frames[video_id] = frames\n"
      ],
      "metadata": {
        "id": "NWeDyqN0MJ53"
      },
      "execution_count": 113,
      "outputs": []
    },
    {
      "cell_type": "code",
      "source": [
        "from transformers import CLIPProcessor, CLIPModel\n",
        "import torch\n",
        "\n",
        "# Load the CLIP model\n",
        "model = CLIPModel.from_pretrained(\"openai/clip-vit-base-patch32\")\n",
        "processor = CLIPProcessor.from_pretrained(\"openai/clip-vit-base-patch32\")\n",
        "\n",
        "def generate_video_embedding(frames):\n",
        "    inputs = processor(images=frames, return_tensors=\"pt\", padding=True)\n",
        "    with torch.no_grad():\n",
        "        embeddings = model.get_image_features(**inputs)\n",
        "    # Average the embeddings to create a single vector for the video\n",
        "    video_embedding = torch.mean(embeddings, dim=0)\n",
        "    return video_embedding\n",
        "\n",
        "video_embeddings = {}\n",
        "\n",
        "for video_id, frames in video_frames.items():\n",
        "    embedding = generate_video_embedding(frames)\n",
        "    video_embeddings[video_id] = embedding.numpy().tolist()\n"
      ],
      "metadata": {
        "id": "ApbflkHePuAA"
      },
      "execution_count": 114,
      "outputs": []
    },
    {
      "cell_type": "code",
      "source": [
        "!pip install faiss-gpu\n"
      ],
      "metadata": {
        "colab": {
          "base_uri": "https://localhost:8080/"
        },
        "id": "zR8harY1PwKq",
        "outputId": "1393f5e5-3cc8-4633-f2ae-f3ea6bc857fd"
      },
      "execution_count": 115,
      "outputs": [
        {
          "output_type": "stream",
          "name": "stdout",
          "text": [
            "Requirement already satisfied: faiss-gpu in /usr/local/lib/python3.10/dist-packages (1.7.2)\n"
          ]
        }
      ]
    },
    {
      "cell_type": "code",
      "source": [
        "import numpy as np\n",
        "\n",
        "# Normalize the embeddings\n",
        "for video_id in video_embeddings:\n",
        "    video_embeddings[video_id] = video_embeddings[video_id] / np.linalg.norm(video_embeddings[video_id])\n"
      ],
      "metadata": {
        "id": "f3nbAdDoPx01"
      },
      "execution_count": 116,
      "outputs": []
    },
    {
      "cell_type": "code",
      "source": [
        "import faiss\n",
        "\n",
        "# Convert your embeddings to a numpy array\n",
        "embedding_dim = len(video_embeddings[next(iter(video_embeddings))])\n",
        "video_ids = list(video_embeddings.keys())\n",
        "embeddings_array = np.array([video_embeddings[vid] for vid in video_ids], dtype=np.float32)\n",
        "\n",
        "# Initialize FAISS index\n",
        "index = faiss.IndexFlatL2(embedding_dim)\n",
        "index.add(embeddings_array)  # Add normalized embeddings to the index\n"
      ],
      "metadata": {
        "id": "SeRNIUStPzbX"
      },
      "execution_count": 117,
      "outputs": []
    },
    {
      "cell_type": "code",
      "source": [
        "# Correct query embedding to search for neighbors of the first video\n",
        "query_embedding = np.array(video_embeddings[video_ids[3]], dtype=np.float32).reshape(1, -1)\n",
        "query_embedding = query_embedding / np.linalg.norm(query_embedding)\n",
        "\n",
        "# Search for the top-3 nearest neighbors (including the video itself)\n",
        "distances, indices = index.search(query_embedding, k=3)  # Search for the top-3 nearest neighbors\n",
        "\n",
        "# Map indices back to video IDs\n",
        "nearest_videos = [video_ids[idx] for idx in indices[0]]\n",
        "print(f\"Nearest videos to {video_ids[0]}: {nearest_videos}\")\n",
        "print(f\"Distances: {distances}\")\n"
      ],
      "metadata": {
        "colab": {
          "base_uri": "https://localhost:8080/"
        },
        "id": "COmaH9eCP0zF",
        "outputId": "ac3b610c-901c-4519-bc65-490da5863fde"
      },
      "execution_count": 118,
      "outputs": [
        {
          "output_type": "stream",
          "name": "stdout",
          "text": [
            "Nearest videos to video_2: ['video_5', 'video_4', 'video_9']\n",
            "Distances: [[6.8400646e-15 1.2556569e-01 1.6670647e-01]]\n"
          ]
        }
      ]
    },
    {
      "cell_type": "code",
      "source": [
        "video_ids"
      ],
      "metadata": {
        "colab": {
          "base_uri": "https://localhost:8080/"
        },
        "id": "nSr_8TY5RamI",
        "outputId": "c14fd7d9-3f77-4f59-9d04-53ed642650f2"
      },
      "execution_count": 119,
      "outputs": [
        {
          "output_type": "execute_result",
          "data": {
            "text/plain": [
              "['video_2',\n",
              " 'video_6',\n",
              " 'video_10',\n",
              " 'video_5',\n",
              " 'video_4',\n",
              " 'video_8',\n",
              " 'video_1',\n",
              " 'video_7',\n",
              " 'video_9',\n",
              " 'video_3']"
            ]
          },
          "metadata": {},
          "execution_count": 119
        }
      ]
    },
    {
      "cell_type": "markdown",
      "source": [
        "#Collaborative filtering"
      ],
      "metadata": {
        "id": "I-QIL8cOoL_o"
      }
    },
    {
      "cell_type": "code",
      "source": [
        "import numpy as np\n",
        "from sklearn.metrics.pairwise import cosine_similarity\n",
        "\n",
        "# Create a simple user-item interaction matrix\n",
        "user_ids = [\"user_001\", \"user_002\",  \"user_003\"]\n",
        "video_ids = [video[\"Video_ID\"] for video in video_metadata]\n",
        "\n",
        "interaction_matrix = np.zeros((len(user_ids), len(video_ids)))\n",
        "\n",
        "# Populate the matrix with interactions (e.g., 1 for like, 0.5 for view)\n",
        "for interaction in user_interactions:\n",
        "    user_idx = user_ids.index(interaction[\"User_ID\"])\n",
        "    video_idx = video_ids.index(interaction[\"Video_ID\"])\n",
        "    if interaction[\"Interaction_Type\"] == \"like\":\n",
        "        interaction_matrix[user_idx, video_idx] = 1\n",
        "    elif interaction[\"Interaction_Type\"] == \"view\":\n",
        "        interaction_matrix[user_idx, video_idx] = 0.5\n",
        "\n",
        "# Calculate similarity between users or items (simple cosine similarity)\n",
        "video_similarity = cosine_similarity(interaction_matrix.T)\n",
        "\n",
        "# Recommend videos to a user based on video similarity\n",
        "def recommend_videos_cf(user_id, interaction_matrix, video_similarity, video_ids):\n",
        "    user_idx = user_ids.index(user_id)\n",
        "    user_ratings = interaction_matrix[user_idx]\n",
        "    recommendations = video_similarity.dot(user_ratings)\n",
        "    recommended_video_indices = np.argsort(recommendations)[::-1][:5]\n",
        "    return [video_ids[i] for i in recommended_video_indices]\n",
        "\n",
        "# Example: Recommend videos to 'user_001'\n",
        "print(\"Collaborative Filtering Recommendations for 'user_001':\", recommend_videos_cf('user_001', interaction_matrix, video_similarity, video_ids))\n"
      ],
      "metadata": {
        "colab": {
          "base_uri": "https://localhost:8080/"
        },
        "id": "c8PRP197RgQZ",
        "outputId": "450a70b3-08e4-4a1b-eef3-f399ad19d33d"
      },
      "execution_count": 120,
      "outputs": [
        {
          "output_type": "stream",
          "name": "stdout",
          "text": [
            "Collaborative Filtering Recommendations for 'user_001': ['video_009', 'video_005', 'video_001', 'video_002', 'video_007']\n"
          ]
        }
      ]
    },
    {
      "cell_type": "markdown",
      "source": [
        "# Content Filtering"
      ],
      "metadata": {
        "id": "IjhistQooQX8"
      }
    },
    {
      "cell_type": "code",
      "source": [
        "from sklearn.feature_extraction.text import TfidfVectorizer\n",
        "\n",
        "# Combine video titles and descriptions for content-based filtering\n",
        "video_corpus = [f\"{video['Title']} {video['Description']}\" for video in video_metadata]\n",
        "\n",
        "# Apply TF-IDF vectorization\n",
        "tfidf = TfidfVectorizer(stop_words='english')\n",
        "tfidf_matrix = tfidf.fit_transform(video_corpus)\n",
        "\n",
        "# Compute cosine similarity between videos\n",
        "cosine_sim = cosine_similarity(tfidf_matrix, tfidf_matrix)\n",
        "\n",
        "# Recommend similar videos based on content\n",
        "def recommend_videos_cf_content(video_id, cosine_sim=cosine_sim):\n",
        "    video_idx = video_ids.index(video_id)\n",
        "    sim_scores = list(enumerate(cosine_sim[video_idx]))\n",
        "    sim_scores = sorted(sim_scores, key=lambda x: x[1], reverse=True)\n",
        "    sim_scores = sim_scores[1:3]  # Get top 5 recommendations\n",
        "    return [video_ids[i[0]] for i in sim_scores]\n",
        "\n",
        "# Example: Get content-based recommendations for 'video_001'\n",
        "print(\"Content-Based Filtering Recommendations for 'video_001':\", recommend_videos_cf_content('video_001'))\n"
      ],
      "metadata": {
        "colab": {
          "base_uri": "https://localhost:8080/"
        },
        "id": "E2ngRx04SVFj",
        "outputId": "00a32de1-0e65-49c4-ef31-05529d8f71dc"
      },
      "execution_count": 121,
      "outputs": [
        {
          "output_type": "stream",
          "name": "stdout",
          "text": [
            "Content-Based Filtering Recommendations for 'video_001': ['video_002', 'video_007']\n"
          ]
        }
      ]
    },
    {
      "cell_type": "code",
      "source": [
        "#!pip install openai"
      ],
      "metadata": {
        "id": "LrUskUY5S0Im"
      },
      "execution_count": 122,
      "outputs": []
    },
    {
      "cell_type": "code",
      "source": [
        "import openai"
      ],
      "metadata": {
        "id": "FgP93DdYSx_c"
      },
      "execution_count": 123,
      "outputs": []
    },
    {
      "cell_type": "code",
      "source": [],
      "metadata": {
        "id": "Bw0_LLV2gvjh"
      },
      "execution_count": 123,
      "outputs": []
    },
    {
      "cell_type": "code",
      "source": [
        "from sklearn.feature_extraction.text import TfidfVectorizer\n",
        "from sklearn.metrics.pairwise import cosine_similarity\n",
        "\n",
        "# Combine video titles and descriptions for content-based filtering\n",
        "video_corpus = [f\"{video['Title']} {video['Description']}\" for video in video_metadata]\n",
        "\n",
        "# Apply TF-IDF vectorization\n",
        "tfidf = TfidfVectorizer(stop_words='english')\n",
        "tfidf_matrix = tfidf.fit_transform(video_corpus)\n",
        "\n",
        "# Compute cosine similarity between videos\n",
        "cosine_sim = cosine_similarity(tfidf_matrix, tfidf_matrix)\n",
        "\n",
        "# Recommend similar videos based on content\n",
        "def recommend_videos_content(video_id, video_ids, cosine_sim, k=5):\n",
        "    video_idx = video_ids.index(video_id)\n",
        "    sim_scores = list(enumerate(cosine_sim[video_idx]))\n",
        "    sim_scores = sorted(sim_scores, key=lambda x: x[1], reverse=True)\n",
        "    sim_scores = sim_scores[1:k+1]  # Get top k recommendations, excluding the video itself\n",
        "    return [video_ids[i[0]] for i in sim_scores]\n"
      ],
      "metadata": {
        "id": "uJCToU09iDYM"
      },
      "execution_count": 124,
      "outputs": []
    },
    {
      "cell_type": "code",
      "source": [
        "from openai import OpenAI\n",
        "client = OpenAI(api_key =\"\")\n",
        "\n",
        "def refine_query_with_gpt4(query):\n",
        "    response = client.chat.completions.create(\n",
        "        model=\"gpt-4o\",\n",
        "        messages=[\n",
        "            {\"role\": \"system\", \"content\": \"You are an AI that refines search queries for a video recommendation system.\"},\n",
        "            {\"role\": \"user\", \"content\": query}\n",
        "        ]\n",
        "    )\n",
        "    refined_query = response.choices[0].message.content\n",
        "    return refined_query\n",
        "\n",
        "def get_combined_recommendations(user_id, video_id, interaction_matrix, video_similarity, video_ids, cosine_sim, k=3):\n",
        "    # Get collaborative filtering recommendations\n",
        "    cf_recommendations = recommend_videos_cf(user_id, interaction_matrix, video_similarity, video_ids)\n",
        "\n",
        "    # Get content-based recommendations using cosine similarity\n",
        "    content_recommendations = recommend_videos_content(video_id, video_ids, cosine_sim, k)\n",
        "\n",
        "    # Combine the results (simple union of recommendations)\n",
        "    combined_recommendations = list(set(cf_recommendations + content_recommendations))\n",
        "\n",
        "    # Exclude the original video\n",
        "    if video_id in combined_recommendations:\n",
        "        combined_recommendations.remove(video_id)\n",
        "\n",
        "    return combined_recommendations\n",
        "\n",
        "\n",
        "def explain_recommendations(video_id, combined_recommendations, video_metadata):\n",
        "    explanation = f\"These recommendations are based on the video {video_id}. Here's why they were chosen:\\n\"\n",
        "\n",
        "    for rec in combined_recommendations:\n",
        "        # Find the video in the video_metadata list\n",
        "        for video in video_metadata:\n",
        "            if video[\"Video_ID\"] == rec:\n",
        "                theme = ', '.join(video['Tags'])  # Assuming 'Tags' is a list in video_metadata\n",
        "                explanation += f\"- {rec}: This video shares similar themes such as {theme}.\\n\"\n",
        "                break\n",
        "\n",
        "    return explanation\n",
        "\n",
        "\n",
        "\n",
        "\n",
        "def recommend_videos(user_id, video_id):\n",
        "    # Refine the query using GPT-4\n",
        "    refined_query = refine_query_with_gpt4(f\"Recommend me videos based on {video_id}\")\n",
        "    print(f\"Refined Query: {refined_query}\")\n",
        "\n",
        "    # Identify keywords in the refined query\n",
        "    query_keywords = refined_query.lower().split()\n",
        "\n",
        "    # Get combined recommendations\n",
        "    combined_recommendations = get_combined_recommendations(user_id, video_id, interaction_matrix, video_similarity, video_ids, cosine_sim)\n",
        "\n",
        "    # Filter recommendations based on the refined query context and original video tags\n",
        "    filtered_recommendations = []\n",
        "    original_video_tags = next((video[\"Tags\"] for video in video_metadata if video[\"Video_ID\"] == video_id), [])\n",
        "\n",
        "    for rec in combined_recommendations:\n",
        "        for video in video_metadata:\n",
        "            if video[\"Video_ID\"] == rec:\n",
        "                # Check if any of the original video tags are in the recommended video tags or title\n",
        "                if any(tag.lower() in video['Tags'] for tag in original_video_tags):\n",
        "                    filtered_recommendations.append(rec)\n",
        "                break\n",
        "\n",
        "    # Provide an explanation for the filtered recommendations\n",
        "    explanation = explain_recommendations(video_id, filtered_recommendations, video_metadata)\n",
        "    print(f\"Explanation: {explanation}\")\n",
        "\n",
        "    return filtered_recommendations\n",
        "\n",
        "\n",
        "# Example: Recommend videos to 'user_001' based on 'video_001'\n",
        "final_recommendations = recommend_videos('user_001', 'video_001')\n",
        "print(\"Final Recommendations:\", final_recommendations)\n"
      ],
      "metadata": {
        "colab": {
          "base_uri": "https://localhost:8080/"
        },
        "id": "zK5rERl4SZRH",
        "outputId": "00042db3-cbe4-498c-fc2d-bc530ef9bf4d"
      },
      "execution_count": 125,
      "outputs": [
        {
          "output_type": "stream",
          "name": "stdout",
          "text": [
            "Refined Query: To provide you with the best recommendations, could you please share more details about \"video_001\"? For example, the video's title, genre, main themes, or any key points you found interesting would be helpful.\n",
            "Explanation: These recommendations are based on the video video_001. Here's why they were chosen:\n",
            "- video_002: This video shares similar themes such as transformers, machine learning, neural networks.\n",
            "- video_005: This video shares similar themes such as SVM, machine learning, AI, explainer.\n",
            "- video_009: This video shares similar themes such as gradient descent, machine learning, momentum.\n",
            "\n",
            "Final Recommendations: ['video_002', 'video_005', 'video_009']\n"
          ]
        }
      ]
    },
    {
      "cell_type": "code",
      "source": [
        "#!pip install gradio"
      ],
      "metadata": {
        "id": "TKtO9shRSw4q"
      },
      "execution_count": 126,
      "outputs": []
    },
    {
      "cell_type": "code",
      "source": [
        "import gradio as gr\n",
        "\n",
        "# Function to create the HTML representation of a video\n",
        "def create_video_html(video):\n",
        "    video_url = video[\"Video_URL\"]\n",
        "    thumbnail_url = video[\"Thumbnail_URL\"]\n",
        "    title = video[\"Title\"]\n",
        "\n",
        "    html = f\"\"\"\n",
        "    <div style=\"margin-bottom: 10px;\">\n",
        "        <a href=\"{video_url}\" target=\"_blank\">\n",
        "            <img src=\"{thumbnail_url}\" style=\"width: 120px; height: auto; margin-right: 10px;\" alt=\"Thumbnail\"/>\n",
        "            <div style=\"display: inline-block; vertical-align: top;\">\n",
        "                <b>{title}</b>\n",
        "            </div>\n",
        "        </a>\n",
        "    </div>\n",
        "    \"\"\"\n",
        "    return html\n",
        "\n",
        "# Function for Gradio interface\n",
        "def gradio_recommend_videos(topic):\n",
        "    # Refine the query using GPT-4\n",
        "    refined_query = refine_query_with_gpt4(f\"Recommend me videos on {topic}\")\n",
        "    print(f\"Refined Query: {refined_query}\")\n",
        "\n",
        "    # Identify keywords in the refined query\n",
        "    query_keywords = refined_query.lower().split()\n",
        "\n",
        "    # Get combined recommendations\n",
        "    combined_recommendations = get_combined_recommendations(\"user_001\", \"video_001\", interaction_matrix, video_similarity, video_ids, cosine_sim)\n",
        "\n",
        "    # Filter recommendations based on the refined query context\n",
        "    filtered_recommendations = []\n",
        "    for rec in combined_recommendations:\n",
        "        for video in video_metadata:\n",
        "            if video[\"Video_ID\"] == rec:\n",
        "                # Check if any of the keywords are in the video tags or title\n",
        "                if any(keyword in video['Title'].lower() or keyword in video['Tags'] for keyword in query_keywords):\n",
        "                    filtered_recommendations.append(video)\n",
        "                break\n",
        "\n",
        "    # Create HTML output for each recommended video\n",
        "    recommendations_html = \"\".join([create_video_html(video) for video in filtered_recommendations])\n",
        "\n",
        "    # Provide an explanation for the filtered recommendations\n",
        "    explanation = explain_recommendations(\"video_001\", [video[\"Video_ID\"] for video in filtered_recommendations], video_metadata)\n",
        "    print(f\"Explanation: {explanation}\")\n",
        "\n",
        "    # Combine everything into final HTML output\n",
        "    final_output = f\"\"\"\n",
        "    <div>\n",
        "        <b>Refined Query:</b> {refined_query}\n",
        "        <br><br>\n",
        "        <b>Recommended Videos:</b>\n",
        "        <div>{recommendations_html}</div>\n",
        "        <br>\n",
        "        <b>Explanation:</b>\n",
        "        <div>{explanation}</div>\n",
        "    </div>\n",
        "    \"\"\"\n",
        "\n",
        "    return final_output\n",
        "\n",
        "# Launch Gradio Interface\n",
        "gr.Interface(\n",
        "    fn=gradio_recommend_videos,\n",
        "    inputs=\"text\",\n",
        "    outputs=\"html\",  # Using 'html' to render custom HTML output\n",
        "    title=\"Video Recommendation System - LLM\",\n",
        "    description=\"Enter a topic to get video recommendations and explanations.\"\n",
        ").launch()\n"
      ],
      "metadata": {
        "colab": {
          "base_uri": "https://localhost:8080/",
          "height": 628
        },
        "id": "jlUtsb-8Utmx",
        "outputId": "cf4747ce-cb30-4e69-ac07-3e66d0474f62"
      },
      "execution_count": 127,
      "outputs": [
        {
          "output_type": "stream",
          "name": "stdout",
          "text": [
            "Setting queue=True in a Colab notebook requires sharing enabled. Setting `share=True` (you can turn this off by setting `share=False` in `launch()` explicitly).\n",
            "\n",
            "Colab notebook detected. To show errors in colab notebook, set debug=True in launch()\n",
            "Running on public URL: https://b596a74ed477972a13.gradio.live\n",
            "\n",
            "This share link expires in 72 hours. For free permanent hosting and GPU upgrades, run `gradio deploy` from Terminal to deploy to Spaces (https://huggingface.co/spaces)\n"
          ]
        },
        {
          "output_type": "display_data",
          "data": {
            "text/plain": [
              "<IPython.core.display.HTML object>"
            ],
            "text/html": [
              "<div><iframe src=\"https://b596a74ed477972a13.gradio.live\" width=\"100%\" height=\"500\" allow=\"autoplay; camera; microphone; clipboard-read; clipboard-write;\" frameborder=\"0\" allowfullscreen></iframe></div>"
            ]
          },
          "metadata": {}
        },
        {
          "output_type": "execute_result",
          "data": {
            "text/plain": []
          },
          "metadata": {},
          "execution_count": 127
        }
      ]
    }
  ]
}